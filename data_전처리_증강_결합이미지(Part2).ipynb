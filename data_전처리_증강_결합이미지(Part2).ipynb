{
  "nbformat": 4,
  "nbformat_minor": 0,
  "metadata": {
    "colab": {
      "provenance": [],
      "gpuType": "T4",
      "mount_file_id": "1jCiL3PlLs63_zhCuMyGRRnQvnvbt_k4D",
      "authorship_tag": "ABX9TyPTK1KHh0l1BEkPTVDTu04M",
      "include_colab_link": true
    },
    "kernelspec": {
      "name": "python3",
      "display_name": "Python 3"
    },
    "language_info": {
      "name": "python"
    },
    "accelerator": "GPU"
  },
  "cells": [
    {
      "cell_type": "markdown",
      "metadata": {
        "id": "view-in-github",
        "colab_type": "text"
      },
      "source": [
        "<a href=\"https://colab.research.google.com/github/dansojo/Medical_CV/blob/main/data_%EC%A0%84%EC%B2%98%EB%A6%AC_%EC%A6%9D%EA%B0%95_%EA%B2%B0%ED%95%A9%EC%9D%B4%EB%AF%B8%EC%A7%80(Part2).ipynb\" target=\"_parent\"><img src=\"https://colab.research.google.com/assets/colab-badge.svg\" alt=\"Open In Colab\"/></a>"
      ]
    },
    {
      "cell_type": "code",
      "source": [
        "pip install -U albumentations"
      ],
      "metadata": {
        "colab": {
          "base_uri": "https://localhost:8080/"
        },
        "id": "majX9VGnXrJh",
        "outputId": "8df14779-2fe7-4471-a79f-e43cd8ae6322"
      },
      "execution_count": null,
      "outputs": [
        {
          "output_type": "stream",
          "name": "stdout",
          "text": [
            "Requirement already satisfied: albumentations in /usr/local/lib/python3.10/dist-packages (1.4.20)\n",
            "Collecting albumentations\n",
            "  Downloading albumentations-1.4.23-py3-none-any.whl.metadata (36 kB)\n",
            "Requirement already satisfied: numpy>=1.24.4 in /usr/local/lib/python3.10/dist-packages (from albumentations) (1.26.4)\n",
            "Requirement already satisfied: scipy>=1.10.0 in /usr/local/lib/python3.10/dist-packages (from albumentations) (1.13.1)\n",
            "Requirement already satisfied: PyYAML in /usr/local/lib/python3.10/dist-packages (from albumentations) (6.0.2)\n",
            "Requirement already satisfied: pydantic>=2.9.2 in /usr/local/lib/python3.10/dist-packages (from albumentations) (2.10.3)\n",
            "Collecting albucore==0.0.21 (from albumentations)\n",
            "  Downloading albucore-0.0.21-py3-none-any.whl.metadata (5.3 kB)\n",
            "Requirement already satisfied: eval-type-backport in /usr/local/lib/python3.10/dist-packages (from albumentations) (0.2.0)\n",
            "Requirement already satisfied: opencv-python-headless>=4.9.0.80 in /usr/local/lib/python3.10/dist-packages (from albumentations) (4.10.0.84)\n",
            "Requirement already satisfied: stringzilla>=3.10.4 in /usr/local/lib/python3.10/dist-packages (from albucore==0.0.21->albumentations) (3.11.1)\n",
            "Collecting simsimd>=5.9.2 (from albucore==0.0.21->albumentations)\n",
            "  Downloading simsimd-6.2.1-cp310-cp310-manylinux_2_28_x86_64.whl.metadata (66 kB)\n",
            "\u001b[2K     \u001b[90m━━━━━━━━━━━━━━━━━━━━━━━━━━━━━━━━━━━━━━━━\u001b[0m \u001b[32m66.0/66.0 kB\u001b[0m \u001b[31m5.1 MB/s\u001b[0m eta \u001b[36m0:00:00\u001b[0m\n",
            "\u001b[?25hRequirement already satisfied: annotated-types>=0.6.0 in /usr/local/lib/python3.10/dist-packages (from pydantic>=2.9.2->albumentations) (0.7.0)\n",
            "Requirement already satisfied: pydantic-core==2.27.1 in /usr/local/lib/python3.10/dist-packages (from pydantic>=2.9.2->albumentations) (2.27.1)\n",
            "Requirement already satisfied: typing-extensions>=4.12.2 in /usr/local/lib/python3.10/dist-packages (from pydantic>=2.9.2->albumentations) (4.12.2)\n",
            "Downloading albumentations-1.4.23-py3-none-any.whl (269 kB)\n",
            "\u001b[2K   \u001b[90m━━━━━━━━━━━━━━━━━━━━━━━━━━━━━━━━━━━━━━━━\u001b[0m \u001b[32m269.9/269.9 kB\u001b[0m \u001b[31m21.3 MB/s\u001b[0m eta \u001b[36m0:00:00\u001b[0m\n",
            "\u001b[?25hDownloading albucore-0.0.21-py3-none-any.whl (12 kB)\n",
            "Downloading simsimd-6.2.1-cp310-cp310-manylinux_2_28_x86_64.whl (632 kB)\n",
            "\u001b[2K   \u001b[90m━━━━━━━━━━━━━━━━━━━━━━━━━━━━━━━━━━━━━━━━\u001b[0m \u001b[32m632.7/632.7 kB\u001b[0m \u001b[31m35.1 MB/s\u001b[0m eta \u001b[36m0:00:00\u001b[0m\n",
            "\u001b[?25hInstalling collected packages: simsimd, albucore, albumentations\n",
            "  Attempting uninstall: albucore\n",
            "    Found existing installation: albucore 0.0.19\n",
            "    Uninstalling albucore-0.0.19:\n",
            "      Successfully uninstalled albucore-0.0.19\n",
            "  Attempting uninstall: albumentations\n",
            "    Found existing installation: albumentations 1.4.20\n",
            "    Uninstalling albumentations-1.4.20:\n",
            "      Successfully uninstalled albumentations-1.4.20\n",
            "Successfully installed albucore-0.0.21 albumentations-1.4.23 simsimd-6.2.1\n"
          ]
        }
      ]
    },
    {
      "cell_type": "code",
      "source": [
        "import os\n",
        "import torch\n",
        "import pandas as pd\n",
        "import numpy as np\n",
        "from PIL import Image\n",
        "from torch.utils.data import Dataset\n",
        "from sklearn.model_selection import train_test_split\n",
        "from albumentations import Compose, Resize, HorizontalFlip, VerticalFlip, Rotate, ColorJitter, ElasticTransform, Normalize\n",
        "from albumentations.pytorch import ToTensorV2"
      ],
      "metadata": {
        "id": "E4ZP5_T3fFz1"
      },
      "execution_count": null,
      "outputs": []
    },
    {
      "cell_type": "code",
      "source": [
        "# 설정 값\n",
        "class Config:\n",
        "    DATA_DIR = \"/content/drive/MyDrive/Medical_CV/피부암 분류 및 Segmentation/part2 + mask이미지\"\n",
        "    METADATA_DIR = \"/content/drive/MyDrive/Medical_CV/피부암 분류 및 Segmentation/HAM10000_metadata\"\n",
        "    SAVE_DIR = \"/content/drive/MyDrive/Medical_CV/피부암 분류 및 Segmentation/part2_datasets\"\n",
        "    RANDOM_SEED = 42"
      ],
      "metadata": {
        "id": "h1HQY-zW8FjF"
      },
      "execution_count": null,
      "outputs": []
    },
    {
      "cell_type": "code",
      "source": [
        "# 2. SkinCancerDataset 클래스 정의\n",
        "class SkinCancerDataset(Dataset):\n",
        "    def __init__(self, image_dir, metadata, transform=None):\n",
        "        self.image_dir = image_dir\n",
        "        self.metadata = metadata  # 이미 필터링 및 정리된 메타데이터\n",
        "        self.transform = transform\n",
        "\n",
        "    def __len__(self):\n",
        "        return len(self.metadata)\n",
        "\n",
        "    def __getitem__(self, idx):\n",
        "        # 이미지 로드\n",
        "        img_name = self.metadata.iloc[idx]['image_id']\n",
        "        img_path = os.path.join(self.image_dir, f\"{img_name}.jpg\")\n",
        "        image = Image.open(img_path).convert('RGB')\n",
        "\n",
        "        # 라벨 가져오기\n",
        "        label = self.metadata.iloc[idx]['label']\n",
        "\n",
        "        # 변환 적용\n",
        "        if self.transform:\n",
        "            image = self.transform(image=np.array(image))['image']\n",
        "\n",
        "        return image, label"
      ],
      "metadata": {
        "id": "nW1E0KBhhxCe"
      },
      "execution_count": null,
      "outputs": []
    },
    {
      "cell_type": "code",
      "source": [
        "# 3. 증강 기법 정의\n",
        "def get_data_transforms():\n",
        "    train_transform = Compose([\n",
        "        Resize(224, 224),\n",
        "        HorizontalFlip(p=0.5),\n",
        "        VerticalFlip(p=0.2),\n",
        "        Rotate(limit=20, p=0.5),\n",
        "        ColorJitter(brightness=0.2, contrast=0.2, saturation=0.2, p=0.5),\n",
        "        ElasticTransform(p=0.3),\n",
        "        Normalize(mean=(0.485, 0.456, 0.406), std=(0.229, 0.224, 0.225)),\n",
        "        ToTensorV2()\n",
        "    ])\n",
        "\n",
        "    val_test_transform = Compose([\n",
        "        Resize(224, 224),\n",
        "        Normalize(mean=(0.485, 0.456, 0.406), std=(0.229, 0.224, 0.225)),\n",
        "        ToTensorV2()\n",
        "    ])\n",
        "\n",
        "    return train_transform, val_test_transform\n"
      ],
      "metadata": {
        "id": "oS4lduyOhrj_"
      },
      "execution_count": null,
      "outputs": []
    },
    {
      "cell_type": "code",
      "source": [
        "# 4. 이미지 데이터 분리 함수\n",
        "def split_data(metadata_path, image_dir):\n",
        "    # 메타데이터 로드\n",
        "    metadata = pd.read_csv(metadata_path)\n",
        "\n",
        "    # 실제 파일과 매칭\n",
        "    image_files = set([f.split('.')[0] for f in os.listdir(image_dir)])\n",
        "    metadata = metadata[metadata['image_id'].isin(image_files)]\n",
        "\n",
        "    # 클래스 매핑\n",
        "    class_map = {\n",
        "        \"bkl\": 0,\n",
        "        \"nv\": 1,\n",
        "        \"df\": 2,\n",
        "        \"mel\": 3,\n",
        "        \"vasc\": 4,\n",
        "        \"bcc\": 5,\n",
        "        \"akiec\": 6\n",
        "    }\n",
        "    metadata['label'] = metadata['dx'].map(class_map)\n",
        "\n",
        "\n",
        "    # 데이터 분할 (6:2:2)\n",
        "    train_data, temp_data = train_test_split(metadata, test_size=0.4,\n",
        "                                             random_state=Config.RANDOM_SEED, stratify=metadata['label'])\n",
        "    val_data, test_data = train_test_split(temp_data, test_size=0.5,\n",
        "                                           random_state=Config.RANDOM_SEED, stratify=temp_data['label'])\n",
        "\n",
        "    return train_data, val_data, test_data"
      ],
      "metadata": {
        "id": "P7epLkPRhpKp"
      },
      "execution_count": null,
      "outputs": []
    },
    {
      "cell_type": "code",
      "source": [
        "# 5. 데이터 변환 및 저장 함수\n",
        "def process_and_save_datasets(train_data, val_data, test_data, save_dir, image_dir):\n",
        "    # 증강 기법 가져오기\n",
        "    train_transform, val_test_transform = get_data_transforms()\n",
        "\n",
        "    # 데이터셋 생성\n",
        "    train_dataset = SkinCancerDataset(image_dir, train_data, transform=train_transform)\n",
        "    val_dataset = SkinCancerDataset(image_dir, val_data, transform=val_test_transform)\n",
        "    test_dataset = SkinCancerDataset(image_dir, test_data, transform=val_test_transform)\n",
        "\n",
        "    # 데이터 저장 디렉토리 생성\n",
        "    os.makedirs(save_dir, exist_ok=True)\n",
        "\n",
        "    def dataset_to_tensor(dataset):\n",
        "        images, labels = [], []\n",
        "        for img, label in dataset:\n",
        "            images.append(img)  # 이미 텐서 형식\n",
        "            labels.append(label)\n",
        "        return torch.stack(images), torch.tensor(labels)\n",
        "\n",
        "    # 저장\n",
        "    torch.save(dataset_to_tensor(train_dataset), os.path.join(save_dir, \"train_dataset.pt\"))\n",
        "    torch.save(dataset_to_tensor(val_dataset), os.path.join(save_dir, \"val_dataset.pt\"))\n",
        "    torch.save(dataset_to_tensor(test_dataset), os.path.join(save_dir, \"test_dataset.pt\"))\n",
        "\n",
        "    print(f\"Datasets saved to {save_dir}\")"
      ],
      "metadata": {
        "id": "9U_sFZyqhkcz"
      },
      "execution_count": null,
      "outputs": []
    },
    {
      "cell_type": "code",
      "source": [
        "# 실행 흐름\n",
        "metadata_path = Config.METADATA_DIR\n",
        "image_dir = Config.DATA_DIR\n",
        "save_dir = Config.SAVE_DIR\n",
        "\n",
        "# 1. 데이터 분리\n",
        "train_data, val_data, test_data = split_data(metadata_path, image_dir)\n",
        "\n",
        "# 2. 데이터 가공 및 저장\n",
        "process_and_save_datasets(train_data, val_data, test_data, save_dir, image_dir)"
      ],
      "metadata": {
        "id": "JR0D18dDhcf5"
      },
      "execution_count": null,
      "outputs": []
    },
    {
      "cell_type": "code",
      "source": [
        "print(\"Train class distribution:\\n\", train_data['label'].value_counts())\n",
        "print(\"Validation class distribution:\\n\", val_data['label'].value_counts())\n",
        "print(\"Test class distribution:\\n\", test_data['label'].value_counts())"
      ],
      "metadata": {
        "id": "-ZD3pokWUGzD"
      },
      "execution_count": null,
      "outputs": []
    }
  ]
}