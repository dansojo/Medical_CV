{
  "nbformat": 4,
  "nbformat_minor": 0,
  "metadata": {
    "colab": {
      "provenance": [],
      "gpuType": "T4",
      "mount_file_id": "1goxv_evN3y4Dje2xG0pryLkmS3rCpi8y",
      "authorship_tag": "ABX9TyOGAWT4u3d7Sg3Tv9maWHng",
      "include_colab_link": true
    },
    "kernelspec": {
      "name": "python3",
      "display_name": "Python 3"
    },
    "language_info": {
      "name": "python"
    },
    "accelerator": "GPU"
  },
  "cells": [
    {
      "cell_type": "markdown",
      "metadata": {
        "id": "view-in-github",
        "colab_type": "text"
      },
      "source": [
        "<a href=\"https://colab.research.google.com/github/dansojo/Medical_CV/blob/main/ViT_model_training_%EB%8F%99%EB%AC%BC_%EA%B7%BC%EA%B3%A8%EA%B2%A9%EA%B3%84_V2.ipynb\" target=\"_parent\"><img src=\"https://colab.research.google.com/assets/colab-badge.svg\" alt=\"Open In Colab\"/></a>"
      ]
    },
    {
      "cell_type": "code",
      "execution_count": null,
      "metadata": {
        "id": "RoYVV796NyyF"
      },
      "outputs": [],
      "source": [
        "import os\n",
        "import numpy as np\n",
        "import cv2\n",
        "import torch\n",
        "import torch.nn as nn\n",
        "from torch.utils.data import Dataset, DataLoader\n",
        "from torchvision import models, transforms\n",
        "import torch.optim as optim"
      ]
    },
    {
      "cell_type": "markdown",
      "source": [
        "**Custom Dataset 클래스 정의**"
      ],
      "metadata": {
        "id": "Bf-zDGQFOrTm"
      }
    },
    {
      "cell_type": "code",
      "source": [
        "class CustomDataset(Dataset):\n",
        "    def __init__(self, root_dir, transform=None, apply_clahe=False):\n",
        "        self.root_dir = root_dir\n",
        "        self.files = [os.path.join(root_dir, f) for f in os.listdir(root_dir) if f.endswith('.npy')]\n",
        "        self.transform = transform\n",
        "        self.apply_clahe = apply_clahe\n",
        "\n",
        "    def __len__(self):\n",
        "        return len(self.files)\n",
        "\n",
        "    def __getitem__(self, idx):\n",
        "        # 넘파이 파일 불러오기\n",
        "        data = np.load(self.files[idx], allow_pickle=True).item()\n",
        "        image_np, label = data['image'], data['label']\n",
        "\n",
        "        # (1, H, W) 형식을 (3, H, W)로 변환\n",
        "        if image_np.shape[0] == 1:  # 단일 채널인 경우\n",
        "            image_np = np.repeat(image_np, 3, axis=0)  # 채널을 3번 반복하여 (3, H, W)로 확장\n",
        "        # ToTensor 변환 적용\n",
        "        image_tensor = torch.tensor(image_np, dtype=torch.float32)\n",
        "\n",
        "        # (H, W, 3) -> (3, H, W)로 변환 필요 시 permute 사용\n",
        "        if image_tensor.shape[0] != 3:\n",
        "            image_tensor = image_tensor.permute(2, 0, 1)\n",
        "\n",
        "\n",
        "        return image_tensor, label"
      ],
      "metadata": {
        "id": "FxtBlcVJviSG"
      },
      "execution_count": null,
      "outputs": []
    },
    {
      "cell_type": "code",
      "source": [
        "# 데이터셋 경로 설정\n",
        "train_data_path = '/content/drive/MyDrive/Medical_CV/3/전처리_데이터/train'\n",
        "val_data_path = '/content/drive/MyDrive/Medical_CV/3/전처리_데이터/val'\n",
        "\n",
        "\n",
        "train_dataset = CustomDataset(root_dir=train_data_path)\n",
        "val_dataset = CustomDataset(root_dir=val_data_path)\n",
        "\n",
        "# 데이터 로더 준비\n",
        "train_loader = DataLoader(train_dataset, batch_size=32, shuffle=True)\n",
        "val_loader = DataLoader(val_dataset, batch_size=32, shuffle=False)"
      ],
      "metadata": {
        "id": "deCNR973PAeQ"
      },
      "execution_count": null,
      "outputs": []
    },
    {
      "cell_type": "code",
      "source": [
        "# ViT 모델 커스터마이징 클래스 정의\n",
        "class ViTModel2(nn.Module):\n",
        "    def __init__(self, num_classes=4):\n",
        "        super(ViTModel2, self).__init__()\n",
        "        # 사전 학습된 ViT 모델 로드\n",
        "        self.model = models.vit_b_16(pretrained=True)\n",
        "\n",
        "        # 마지막 레이어를 num_classes에 맞게 수정\n",
        "        in_features = self.model.heads.head.in_features\n",
        "\n",
        "        self.model.classifier = nn.Sequential(\n",
        "            nn.Dropout(p=0.5),  # Dropout 추가 (과적합 방지)\n",
        "            nn.Linear(in_features, num_classes)\n",
        "        )\n",
        "\n",
        "    def forward(self, x):\n",
        "        return self.model(x)"
      ],
      "metadata": {
        "id": "kKgqtolltEHs"
      },
      "execution_count": null,
      "outputs": []
    },
    {
      "cell_type": "code",
      "source": [
        "# 모델 생성 및 장치 설정\n",
        "num_classes = 4  # 클래스 수 (갈비뼈골절, 슬개골탈구, 전십자인대파열, 추간판질환)\n",
        "ViT_model2 = ViTModel2(num_classes=num_classes)\n",
        "device = torch.device(\"cuda\" if torch.cuda.is_available() else \"cpu\")\n",
        "ViT_model2 = ViT_model2.to(device)"
      ],
      "metadata": {
        "colab": {
          "base_uri": "https://localhost:8080/"
        },
        "id": "5FHsHWyvtrX-",
        "outputId": "9fc2dab5-6987-4350-b47a-5ac91c87631d"
      },
      "execution_count": null,
      "outputs": [
        {
          "output_type": "stream",
          "name": "stderr",
          "text": [
            "/usr/local/lib/python3.10/dist-packages/torchvision/models/_utils.py:208: UserWarning: The parameter 'pretrained' is deprecated since 0.13 and may be removed in the future, please use 'weights' instead.\n",
            "  warnings.warn(\n",
            "/usr/local/lib/python3.10/dist-packages/torchvision/models/_utils.py:223: UserWarning: Arguments other than a weight enum or `None` for 'weights' are deprecated since 0.13 and may be removed in the future. The current behavior is equivalent to passing `weights=ViT_B_16_Weights.IMAGENET1K_V1`. You can also use `weights=ViT_B_16_Weights.DEFAULT` to get the most up-to-date weights.\n",
            "  warnings.warn(msg)\n"
          ]
        }
      ]
    },
    {
      "cell_type": "code",
      "source": [
        "learning_rate  = 1e-6\n",
        "optimizer = optim.Adam(ViT_model2.parameters(), lr=learning_rate)\n",
        "criterion = nn.CrossEntropyLoss()"
      ],
      "metadata": {
        "id": "ztTBOTuZtD6X"
      },
      "execution_count": null,
      "outputs": []
    },
    {
      "cell_type": "code",
      "source": [
        "def train_model(model, optimizer, criterion, train_loader, val_loader, num_epochs=15):\n",
        "    for epoch in range(num_epochs):\n",
        "        model.train()\n",
        "        running_loss = 0.0\n",
        "\n",
        "        for images, labels in train_loader:\n",
        "            images, labels = images.to(device), labels.to(device)\n",
        "            optimizer.zero_grad()\n",
        "            outputs = model(images)\n",
        "            loss = criterion(outputs, labels)\n",
        "            loss.backward()\n",
        "            optimizer.step()\n",
        "            running_loss += loss.item()\n",
        "\n",
        "        avg_train_loss = running_loss / len(train_loader)\n",
        "\n",
        "        # 검증 단계\n",
        "        model.eval()\n",
        "        correct = 0\n",
        "        total = 0\n",
        "        with torch.no_grad():\n",
        "            for images, labels in val_loader:\n",
        "                images, labels = images.to(device), labels.to(device)\n",
        "                outputs = model(images)\n",
        "                _, predicted = torch.max(outputs, 1)\n",
        "                total += labels.size(0)\n",
        "                correct += (predicted == labels).sum().item()\n",
        "\n",
        "        val_accuracy = 100 * correct / total\n",
        "        print(f\"Epoch [{epoch + 1}/{num_epochs}], Loss: {avg_train_loss:.4f}, Validation Accuracy: {val_accuracy:.2f}%\")\n",
        "\n",
        "# 모델 학습 시작\n",
        "train_model(ViT_model2, optimizer, criterion, train_loader, val_loader, num_epochs=15)"
      ],
      "metadata": {
        "colab": {
          "base_uri": "https://localhost:8080/"
        },
        "id": "mjVFmrCLtDvk",
        "outputId": "7c19ff24-ad4f-492f-fd3d-34b8d7a78673"
      },
      "execution_count": null,
      "outputs": [
        {
          "output_type": "stream",
          "name": "stdout",
          "text": [
            "Epoch [1/15], Loss: 3.6629, Validation Accuracy: 75.97%\n",
            "Epoch [2/15], Loss: 0.4944, Validation Accuracy: 85.02%\n",
            "Epoch [3/15], Loss: 0.2816, Validation Accuracy: 84.32%\n",
            "Epoch [4/15], Loss: 0.2085, Validation Accuracy: 89.42%\n",
            "Epoch [5/15], Loss: 0.1710, Validation Accuracy: 86.30%\n",
            "Epoch [6/15], Loss: 0.1470, Validation Accuracy: 87.44%\n",
            "Epoch [7/15], Loss: 0.1299, Validation Accuracy: 89.48%\n",
            "Epoch [8/15], Loss: 0.1161, Validation Accuracy: 87.64%\n",
            "Epoch [9/15], Loss: 0.1042, Validation Accuracy: 91.46%\n",
            "Epoch [10/15], Loss: 0.0959, Validation Accuracy: 89.93%\n",
            "Epoch [11/15], Loss: 0.0882, Validation Accuracy: 94.65%\n",
            "Epoch [12/15], Loss: 0.0775, Validation Accuracy: 91.84%\n",
            "Epoch [13/15], Loss: 0.0697, Validation Accuracy: 91.65%\n",
            "Epoch [14/15], Loss: 0.0633, Validation Accuracy: 91.27%\n",
            "Epoch [15/15], Loss: 0.0580, Validation Accuracy: 91.78%\n"
          ]
        }
      ]
    },
    {
      "cell_type": "code",
      "source": [
        "save_dir = '/content/drive/MyDrive/Medical_CV/models'\n",
        "os.makedirs(save_dir, exist_ok=True)  # 경로가 없으면 생성\n",
        "\n",
        "# 저장 파일 이름 설정\n",
        "save_path = os.path.join(save_dir, 'vit_weights_V2.pth')"
      ],
      "metadata": {
        "id": "jhjj_wNIuNwO"
      },
      "execution_count": null,
      "outputs": []
    },
    {
      "cell_type": "code",
      "source": [
        "torch.save(ViT_model2.state_dict(), save_path)"
      ],
      "metadata": {
        "id": "shOYuOiOuNqn"
      },
      "execution_count": null,
      "outputs": []
    }
  ]
}