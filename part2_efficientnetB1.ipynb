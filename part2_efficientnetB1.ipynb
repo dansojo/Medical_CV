{
  "nbformat": 4,
  "nbformat_minor": 0,
  "metadata": {
    "colab": {
      "provenance": [],
      "gpuType": "T4",
      "mount_file_id": "1nElWBQfDXryAwMsN1z_zeCU9Vzon-zdI",
      "authorship_tag": "ABX9TyOxlKqi4U35wymYvV4fDOQM",
      "include_colab_link": true
    },
    "kernelspec": {
      "name": "python3",
      "display_name": "Python 3"
    },
    "language_info": {
      "name": "python"
    },
    "accelerator": "GPU"
  },
  "cells": [
    {
      "cell_type": "markdown",
      "metadata": {
        "id": "view-in-github",
        "colab_type": "text"
      },
      "source": [
        "<a href=\"https://colab.research.google.com/github/dansojo/Medical_CV/blob/main/part2_efficientnetB1.ipynb\" target=\"_parent\"><img src=\"https://colab.research.google.com/assets/colab-badge.svg\" alt=\"Open In Colab\"/></a>"
      ]
    },
    {
      "cell_type": "code",
      "execution_count": null,
      "metadata": {
        "id": "6oEo_UbG3-Q5"
      },
      "outputs": [],
      "source": [
        "import os\n",
        "import torch\n",
        "import numpy as np\n",
        "import seaborn as sns\n",
        "import torch.nn as nn\n",
        "import torch.optim as optim\n",
        "import matplotlib.pyplot as plt\n",
        "from torch.nn import Dropout\n",
        "from torch.utils.data import DataLoader, TensorDataset\n",
        "from torchvision.models import efficientnet_b1\n",
        "from sklearn.metrics import accuracy_score, f1_score, confusion_matrix, classification_report"
      ]
    },
    {
      "cell_type": "code",
      "source": [
        "# 설정 값\n",
        "class Config:\n",
        "    TRAIN_PATH = \"/content/drive/MyDrive/Medical_CV/피부암 분류 및 Segmentation/part2_datasets/train_dataset.pt\"\n",
        "    VAL_PATH = \"/content/drive/MyDrive/Medical_CV/피부암 분류 및 Segmentation/part2_datasets/val_dataset.pt\"\n",
        "    TEST_PATH = \"/content/drive/MyDrive/Medical_CV/피부암 분류 및 Segmentation/part2_datasets/test_dataset.pt\"\n",
        "    BATCH_SIZE = 32\n",
        "    EPOCHS = 20\n",
        "    LR = 0.001\n",
        "    DEVICE = torch.device(\"cuda\" if torch.cuda.is_available() else \"cpu\")"
      ],
      "metadata": {
        "id": "d4-nJi5V4Ees"
      },
      "execution_count": null,
      "outputs": []
    },
    {
      "cell_type": "code",
      "source": [
        "# 데이터 로드 함수\n",
        "def load_data(train_path, val_path, test_path):\n",
        "    train_images, train_labels = torch.load(train_path)\n",
        "    val_images, val_labels = torch.load(val_path)\n",
        "    test_images, test_labels = torch.load(test_path)\n",
        "\n",
        "    train_dataset = TensorDataset(train_images, train_labels)\n",
        "    val_dataset = TensorDataset(val_images, val_labels)\n",
        "    test_dataset = TensorDataset(test_images, test_labels)\n",
        "\n",
        "    train_loader = DataLoader(train_dataset, batch_size=Config.BATCH_SIZE, shuffle=True)\n",
        "    val_loader = DataLoader(val_dataset, batch_size=Config.BATCH_SIZE, shuffle=False)\n",
        "    test_loader = DataLoader(test_dataset, batch_size=Config.BATCH_SIZE, shuffle=False)\n",
        "\n",
        "    return train_loader, val_loader, test_loader"
      ],
      "metadata": {
        "id": "gj0EOZgx4EjU"
      },
      "execution_count": null,
      "outputs": []
    },
    {
      "cell_type": "code",
      "source": [
        "# EfficientNet-B1 모델 정의\n",
        "def get_efficientnet_model(num_classes=7):\n",
        "    model = efficientnet_b1(weights='DEFAULT')  # pretrained=True 대신 weights='DEFAULT' 사용\n",
        "    model.classifier = nn.Sequential(\n",
        "        nn.Dropout(p=0.5),  # Dropout 추가 (p는 드롭 확률, 50%)\n",
        "        nn.Linear(model.classifier[1].in_features, num_classes)  # 기존 선형 레이어\n",
        "    )\n",
        "    return model.to(Config.DEVICE)"
      ],
      "metadata": {
        "id": "1AJ8F58T4Elx"
      },
      "execution_count": null,
      "outputs": []
    },
    {
      "cell_type": "code",
      "source": [
        "# 학습 함수\n",
        "def train_model(model, train_loader, val_loader):\n",
        "    criterion = nn.CrossEntropyLoss()\n",
        "    optimizer = optim.Adam(model.parameters(), lr=Config.LR)\n",
        "\n",
        "    for epoch in range(Config.EPOCHS):\n",
        "        model.train()\n",
        "        running_loss = 0.0\n",
        "\n",
        "        for images, labels in train_loader:\n",
        "            images, labels = images.to(Config.DEVICE), labels.to(Config.DEVICE)\n",
        "            optimizer.zero_grad()\n",
        "            outputs = model(images)\n",
        "            loss = criterion(outputs, labels)\n",
        "            loss.backward()\n",
        "            optimizer.step()\n",
        "            running_loss += loss.item()\n",
        "\n",
        "        print(f\"Epoch [{epoch+1}/{Config.EPOCHS}], Loss: {running_loss/len(train_loader):.4f}\")\n",
        "\n",
        "        # Validation\n",
        "        model.eval()\n",
        "        val_accuracy = []\n",
        "        with torch.no_grad():\n",
        "            for images, labels in val_loader:\n",
        "                images, labels = images.to(Config.DEVICE), labels.to(Config.DEVICE)\n",
        "                outputs = model(images)\n",
        "                _, preds = torch.max(outputs, 1)\n",
        "                val_accuracy.append(accuracy_score(labels.cpu(), preds.cpu()))\n",
        "        print(f\"Validation Accuracy: {sum(val_accuracy)/len(val_accuracy):.4f}\")"
      ],
      "metadata": {
        "id": "HrQsw-C74EoL"
      },
      "execution_count": null,
      "outputs": []
    },
    {
      "cell_type": "code",
      "source": [
        "# 평가 함수\n",
        "def evaluate_model(model, test_loader):\n",
        "    model.eval()\n",
        "    all_preds, all_labels = [], []\n",
        "\n",
        "    with torch.no_grad():\n",
        "        for images, labels in test_loader:\n",
        "            images, labels = images.to(Config.DEVICE), labels.to(Config.DEVICE)\n",
        "            outputs = model(images)\n",
        "            _, preds = torch.max(outputs, 1)\n",
        "            all_preds.extend(preds.cpu().numpy())\n",
        "            all_labels.extend(labels.cpu().numpy())\n",
        "\n",
        "    # 평가 지표\n",
        "    accuracy = accuracy_score(all_labels, all_preds)\n",
        "    f1 = f1_score(all_labels, all_preds, average='weighted')\n",
        "    cm = confusion_matrix(all_labels, all_preds)\n",
        "\n",
        "    print(f\"Test Accuracy: {accuracy:.4f}\")\n",
        "    print(f\"F1 Score: {f1:.4f}\")\n",
        "    print(f\"Confusion Matrix:\\n{cm}\")"
      ],
      "metadata": {
        "id": "rclDqpQh4Eqp"
      },
      "execution_count": null,
      "outputs": []
    },
    {
      "cell_type": "code",
      "source": [
        "train_loader, val_loader, test_loader = load_data(Config.TRAIN_PATH, Config.VAL_PATH, Config.TEST_PATH)"
      ],
      "metadata": {
        "id": "nY3-cPOh4Es6",
        "colab": {
          "base_uri": "https://localhost:8080/"
        },
        "outputId": "b7767112-d9a3-47d5-cd9d-c94c049c4b52"
      },
      "execution_count": null,
      "outputs": [
        {
          "output_type": "stream",
          "name": "stderr",
          "text": [
            "<ipython-input-3-76246b475679>:3: FutureWarning: You are using `torch.load` with `weights_only=False` (the current default value), which uses the default pickle module implicitly. It is possible to construct malicious pickle data which will execute arbitrary code during unpickling (See https://github.com/pytorch/pytorch/blob/main/SECURITY.md#untrusted-models for more details). In a future release, the default value for `weights_only` will be flipped to `True`. This limits the functions that could be executed during unpickling. Arbitrary objects will no longer be allowed to be loaded via this mode unless they are explicitly allowlisted by the user via `torch.serialization.add_safe_globals`. We recommend you start setting `weights_only=True` for any use case where you don't have full control of the loaded file. Please open an issue on GitHub for any issues related to this experimental feature.\n",
            "  train_images, train_labels = torch.load(train_path)\n",
            "<ipython-input-3-76246b475679>:4: FutureWarning: You are using `torch.load` with `weights_only=False` (the current default value), which uses the default pickle module implicitly. It is possible to construct malicious pickle data which will execute arbitrary code during unpickling (See https://github.com/pytorch/pytorch/blob/main/SECURITY.md#untrusted-models for more details). In a future release, the default value for `weights_only` will be flipped to `True`. This limits the functions that could be executed during unpickling. Arbitrary objects will no longer be allowed to be loaded via this mode unless they are explicitly allowlisted by the user via `torch.serialization.add_safe_globals`. We recommend you start setting `weights_only=True` for any use case where you don't have full control of the loaded file. Please open an issue on GitHub for any issues related to this experimental feature.\n",
            "  val_images, val_labels = torch.load(val_path)\n",
            "<ipython-input-3-76246b475679>:5: FutureWarning: You are using `torch.load` with `weights_only=False` (the current default value), which uses the default pickle module implicitly. It is possible to construct malicious pickle data which will execute arbitrary code during unpickling (See https://github.com/pytorch/pytorch/blob/main/SECURITY.md#untrusted-models for more details). In a future release, the default value for `weights_only` will be flipped to `True`. This limits the functions that could be executed during unpickling. Arbitrary objects will no longer be allowed to be loaded via this mode unless they are explicitly allowlisted by the user via `torch.serialization.add_safe_globals`. We recommend you start setting `weights_only=True` for any use case where you don't have full control of the loaded file. Please open an issue on GitHub for any issues related to this experimental feature.\n",
            "  test_images, test_labels = torch.load(test_path)\n"
          ]
        }
      ]
    },
    {
      "cell_type": "code",
      "source": [
        "model = get_efficientnet_model()\n",
        "train_model(model, train_loader, val_loader)"
      ],
      "metadata": {
        "id": "IXcTISoF4EvW",
        "colab": {
          "base_uri": "https://localhost:8080/"
        },
        "outputId": "53aee401-2a54-49c3-93a4-abc82d1cf747"
      },
      "execution_count": null,
      "outputs": [
        {
          "output_type": "stream",
          "name": "stderr",
          "text": [
            "Downloading: \"https://download.pytorch.org/models/efficientnet_b1-c27df63c.pth\" to /root/.cache/torch/hub/checkpoints/efficientnet_b1-c27df63c.pth\n",
            "100%|██████████| 30.1M/30.1M [00:00<00:00, 74.0MB/s]\n"
          ]
        },
        {
          "output_type": "stream",
          "name": "stdout",
          "text": [
            "Epoch [1/20], Loss: 0.8922\n",
            "Validation Accuracy: 0.7464\n",
            "Epoch [2/20], Loss: 0.6668\n",
            "Validation Accuracy: 0.7551\n",
            "Epoch [3/20], Loss: 0.4771\n",
            "Validation Accuracy: 0.7990\n",
            "Epoch [4/20], Loss: 0.3403\n",
            "Validation Accuracy: 0.7873\n",
            "Epoch [5/20], Loss: 0.2576\n",
            "Validation Accuracy: 0.7533\n",
            "Epoch [6/20], Loss: 0.2499\n",
            "Validation Accuracy: 0.7718\n",
            "Epoch [7/20], Loss: 0.1825\n",
            "Validation Accuracy: 0.7893\n",
            "Epoch [8/20], Loss: 0.1247\n",
            "Validation Accuracy: 0.7727\n",
            "Epoch [9/20], Loss: 0.0806\n",
            "Validation Accuracy: 0.7689\n",
            "Epoch [10/20], Loss: 0.1312\n",
            "Validation Accuracy: 0.7544\n",
            "Epoch [11/20], Loss: 0.1114\n",
            "Validation Accuracy: 0.7727\n",
            "Epoch [12/20], Loss: 0.1322\n",
            "Validation Accuracy: 0.7825\n",
            "Epoch [13/20], Loss: 0.2364\n",
            "Validation Accuracy: 0.7864\n",
            "Epoch [14/20], Loss: 0.1621\n",
            "Validation Accuracy: 0.7834\n",
            "Epoch [15/20], Loss: 0.1293\n",
            "Validation Accuracy: 0.7874\n",
            "Epoch [16/20], Loss: 0.0706\n",
            "Validation Accuracy: 0.7765\n",
            "Epoch [17/20], Loss: 0.0515\n",
            "Validation Accuracy: 0.7707\n",
            "Epoch [18/20], Loss: 0.0624\n",
            "Validation Accuracy: 0.7669\n",
            "Epoch [19/20], Loss: 0.0334\n",
            "Validation Accuracy: 0.7921\n",
            "Epoch [20/20], Loss: 0.0185\n",
            "Validation Accuracy: 0.7941\n"
          ]
        }
      ]
    },
    {
      "cell_type": "code",
      "source": [
        "evaluate_model(model, test_loader)"
      ],
      "metadata": {
        "id": "uppik5z04Qpj",
        "colab": {
          "base_uri": "https://localhost:8080/"
        },
        "outputId": "080b7744-202b-41bf-d708-b0ba5959f3ba"
      },
      "execution_count": null,
      "outputs": [
        {
          "output_type": "stream",
          "name": "stdout",
          "text": [
            "Test Accuracy: 0.7956\n",
            "F1 Score: 0.7787\n",
            "Confusion Matrix:\n",
            "[[ 65  29   1   4   0   6   2]\n",
            " [ 11 624   0   6   4   7   3]\n",
            " [  3   4   3   0   0   2   0]\n",
            " [ 15  61   0  46   3   4   6]\n",
            " [  0   1   0   0  12   3   0]\n",
            " [  3   3   0   0   2  38   3]\n",
            " [ 11   0   1   0   0   7  10]]\n"
          ]
        }
      ]
    },
    {
      "cell_type": "code",
      "source": [
        "# 모델 저장\n",
        "def save_entire_model(model, save_path):\n",
        "    torch.save(model, save_path)\n",
        "    print(f\"Entire model saved to {save_path}\")\n",
        "\n",
        "# 예시 - 학습 후 저장\n",
        "save_path = \"/content/drive/MyDrive/Medical_CV/피부암 분류 및 Segmentation/part2_datasets/part2_efficientnetB1_model.pth\"\n",
        "save_entire_model(model, save_path)"
      ],
      "metadata": {
        "id": "5ql4n3-L4QnP",
        "colab": {
          "base_uri": "https://localhost:8080/"
        },
        "outputId": "b9ba5228-8486-45c6-cd4c-8d9ab5b4711b"
      },
      "execution_count": null,
      "outputs": [
        {
          "output_type": "stream",
          "name": "stdout",
          "text": [
            "Entire model saved to /content/drive/MyDrive/Medical_CV/피부암 분류 및 Segmentation/part2_datasets/part2_efficientnetB1_model.pth\n"
          ]
        }
      ]
    },
    {
      "cell_type": "code",
      "source": [
        "# Confusion Matrix 시각화 함수\n",
        "def plot_confusion_matrix(true_labels, predicted_labels, class_names):\n",
        "    cm = confusion_matrix(true_labels, predicted_labels)\n",
        "    plt.figure(figsize=(8, 6))\n",
        "    sns.heatmap(cm, annot=True, fmt=\"d\", cmap=\"Blues\", xticklabels=class_names, yticklabels=class_names)\n",
        "    plt.xlabel(\"Predicted Labels\")\n",
        "    plt.ylabel(\"True Labels\")\n",
        "    plt.title(\"Confusion Matrix\")\n",
        "    plt.show()\n",
        "\n",
        "# 클래스 이름 정의\n",
        "class_names = [\"bkl\", \"nv\", \"df\", \"mel\", \"vasc\", \"bcc\", \"akiec\"]\n",
        "\n",
        "# 모델 평가 및 Confusion Matrix 생성\n",
        "def evaluate_and_plot_confusion_matrix(model, test_loader, class_names):\n",
        "    model.eval()\n",
        "    all_preds = []\n",
        "    all_labels = []\n",
        "\n",
        "    with torch.no_grad():\n",
        "        for images, labels in test_loader:\n",
        "            images, labels = images.to(Config.DEVICE), labels.to(Config.DEVICE)\n",
        "            outputs = model(images)\n",
        "            _, preds = torch.max(outputs, 1)  # 예측값\n",
        "            all_preds.extend(preds.cpu().numpy())\n",
        "            all_labels.extend(labels.cpu().numpy())\n",
        "\n",
        "    # Confusion Matrix 시각화\n",
        "    plot_confusion_matrix(all_labels, all_preds, class_names)\n",
        "\n",
        "    # 테스트 정확도 출력\n",
        "    accuracy = accuracy_score(all_labels, all_preds)\n",
        "    print(f\"Test Accuracy: {accuracy:.4f}\")"
      ],
      "metadata": {
        "id": "eI5BaaNZ-g6X"
      },
      "execution_count": null,
      "outputs": []
    },
    {
      "cell_type": "code",
      "source": [
        "evaluate_and_plot_confusion_matrix(model, test_loader, class_names)"
      ],
      "metadata": {
        "id": "KBYNmnMT-g3x",
        "colab": {
          "base_uri": "https://localhost:8080/",
          "height": 582
        },
        "outputId": "18799cf7-c53e-4179-ba98-023be5e964ce"
      },
      "execution_count": null,
      "outputs": [
        {
          "output_type": "display_data",
          "data": {
            "text/plain": [
              "<Figure size 800x600 with 2 Axes>"
            ],
            "image/png": "[encoded data removed]"
          },
          "metadata": {}
        },
        {
          "output_type": "stream",
          "name": "stdout",
          "text": [
            "Test Accuracy: 0.7956\n"
          ]
        }
      ]
    },
    {
      "cell_type": "code",
      "source": [
        "# 성능 지표 시각화 함수\n",
        "def plot_classification_metrics(true_labels, predicted_labels, class_names):\n",
        "    # Classification Report 생성\n",
        "    report = classification_report(true_labels, predicted_labels, target_names=class_names, output_dict=True)\n",
        "\n",
        "    # Precision, Recall, F1 Score 추출\n",
        "    metrics = ['precision', 'recall', 'f1-score']\n",
        "    scores = {metric: [report[label][metric] for label in class_names] for metric in metrics}\n",
        "\n",
        "    # 그래프 그리기\n",
        "    x = np.arange(len(class_names))\n",
        "    width = 0.2\n",
        "\n",
        "    plt.figure(figsize=(12, 6))\n",
        "    for i, metric in enumerate(metrics):\n",
        "        plt.bar(x + i * width, scores[metric], width, label=metric)\n",
        "\n",
        "    plt.xlabel('Classes')\n",
        "    plt.ylabel('Scores')\n",
        "    plt.title('Classification Metrics by Class')\n",
        "    plt.xticks(x + width, class_names, rotation=45)\n",
        "    plt.ylim(0, 1)  # 점수 범위를 0~1로 고정\n",
        "    plt.legend()\n",
        "    plt.tight_layout()\n",
        "    plt.show()\n",
        "\n",
        "# 클래스 이름 정의\n",
        "class_names = [\"bkl\", \"nv\", \"df\", \"mel\", \"vasc\", \"bcc\", \"akiec\"]\n",
        "\n",
        "# 모델 평가 및 성능 지표 시각화\n",
        "def evaluate_and_plot_metrics(model, test_loader, class_names):\n",
        "    model.eval()\n",
        "    all_preds = []\n",
        "    all_labels = []\n",
        "\n",
        "    with torch.no_grad():\n",
        "        for images, labels in test_loader:\n",
        "            images, labels = images.to(Config.DEVICE), labels.to(Config.DEVICE)\n",
        "            outputs = model(images)\n",
        "            _, preds = torch.max(outputs, 1)  # 예측값\n",
        "            all_preds.extend(preds.cpu().numpy())\n",
        "            all_labels.extend(labels.cpu().numpy())\n",
        "\n",
        "    # 성능 지표 그래프 그리기\n",
        "    plot_classification_metrics(all_labels, all_preds, class_names)\n",
        "\n",
        "    # Classification Report 출력\n",
        "    print(classification_report(all_labels, all_preds, target_names=class_names))"
      ],
      "metadata": {
        "id": "GCEfRwCz-gr8"
      },
      "execution_count": null,
      "outputs": []
    },
    {
      "cell_type": "code",
      "source": [
        "evaluate_and_plot_metrics(model, test_loader, class_names)"
      ],
      "metadata": {
        "id": "ltMc4KGb-gpG",
        "colab": {
          "base_uri": "https://localhost:8080/",
          "height": 865
        },
        "outputId": "7858185b-a080-4160-d7af-161ab11741fe"
      },
      "execution_count": null,
      "outputs": [
        {
          "output_type": "display_data",
          "data": {
            "text/plain": [
              "<Figure size 1200x600 with 1 Axes>"
            ],
            "image/png": "[encoded data removed]"
          },
          "metadata": {}
        },
        {
          "output_type": "stream",
          "name": "stdout",
          "text": [
            "              precision    recall  f1-score   support\n",
            "\n",
            "         bkl       0.60      0.61      0.60       107\n",
            "          nv       0.86      0.95      0.91       655\n",
            "          df       0.60      0.25      0.35        12\n",
            "         mel       0.82      0.34      0.48       135\n",
            "        vasc       0.57      0.75      0.65        16\n",
            "         bcc       0.57      0.78      0.66        49\n",
            "       akiec       0.42      0.34      0.38        29\n",
            "\n",
            "    accuracy                           0.80      1003\n",
            "   macro avg       0.63      0.57      0.58      1003\n",
            "weighted avg       0.80      0.80      0.78      1003\n",
            "\n"
          ]
        }
      ]
    }
  ]
}