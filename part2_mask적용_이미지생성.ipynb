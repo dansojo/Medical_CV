{
  "nbformat": 4,
  "nbformat_minor": 0,
  "metadata": {
    "colab": {
      "provenance": [],
      "mount_file_id": "1oAkr1VyAoPxoTBoqGTboJ0QNnRMQTzlF",
      "authorship_tag": "ABX9TyNYrYSNud9I+z9ue1lJmz6w",
      "include_colab_link": true
    },
    "kernelspec": {
      "name": "python3",
      "display_name": "Python 3"
    },
    "language_info": {
      "name": "python"
    }
  },
  "cells": [
    {
      "cell_type": "markdown",
      "metadata": {
        "id": "view-in-github",
        "colab_type": "text"
      },
      "source": [
        "<a href=\"https://colab.research.google.com/github/dansojo/Medical_CV/blob/main/part2_mask%EC%A0%81%EC%9A%A9_%EC%9D%B4%EB%AF%B8%EC%A7%80%EC%83%9D%EC%84%B1.ipynb\" target=\"_parent\"><img src=\"https://colab.research.google.com/assets/colab-badge.svg\" alt=\"Open In Colab\"/></a>"
      ]
    },
    {
      "cell_type": "code",
      "execution_count": null,
      "metadata": {
        "id": "j0-MGpHW__o9"
      },
      "outputs": [],
      "source": [
        "import os\n",
        "import cv2\n",
        "import numpy as np\n",
        "\n",
        "# 경로 설정\n",
        "ORIGINAL_IMAGE_DIR = \"/content/drive/MyDrive/Medical_CV/피부암 분류 및 Segmentation/part2\"\n",
        "MASK_IMAGE_DIR = \"/content/drive/MyDrive/Medical_CV/피부암 분류 및 Segmentation/HAM10000_segmentations_lesion_tschandl\"\n",
        "SAVE_DIR = \"/content/drive/MyDrive/Medical_CV/피부암 분류 및 Segmentation/part2 + mask이미지\"\n",
        "\n",
        "# 저장 폴더 생성\n",
        "os.makedirs(SAVE_DIR, exist_ok=True)"
      ]
    },
    {
      "cell_type": "code",
      "source": [
        "# 병변 강조 이미지 생성 및 저장 함수\n",
        "def create_emphasized_images(image_dir, mask_dir, save_dir):\n",
        "    # 저장 경로 생성\n",
        "    os.makedirs(save_dir, exist_ok=True)\n",
        "\n",
        "    # Part2 이미지 파일 리스트 (확장자 제거)\n",
        "    image_files = [f for f in os.listdir(image_dir) if f.endswith(\".jpg\")]\n",
        "    image_names = [os.path.splitext(f)[0] for f in image_files]  # 확장자 제거한 이름\n",
        "\n",
        "    print(f\"Part2 이미지 개수: {len(image_names)}\")\n",
        "\n",
        "    # 마스크 매칭 및 처리\n",
        "    for image_name in image_names:\n",
        "        image_path = os.path.join(image_dir, image_name + \".jpg\")\n",
        "        mask_path = os.path.join(mask_dir, image_name + \"_segmentation.png\")\n",
        "\n",
        "        # 이미지와 마스크 존재 확인\n",
        "        if not os.path.exists(mask_path):\n",
        "            print(f\"마스크 없음, 건너뜀: {image_name}\")\n",
        "            continue\n",
        "\n",
        "        # 이미지와 마스크 로드\n",
        "        image = cv2.imread(image_path)\n",
        "        mask = cv2.imread(mask_path, cv2.IMREAD_GRAYSCALE)  # 마스크는 Grayscale\n",
        "\n",
        "        if image is None or mask is None:\n",
        "            print(f\"로드 실패, 건너뜀: {image_name}\")\n",
        "            continue\n",
        "\n",
        "        # 병변 강조 (마스크와 이미지 곱하기)\n",
        "        mask_binary = (mask > 0).astype(np.uint8)  # 이진 마스크 생성 (0, 1)\n",
        "        emphasized_image = cv2.bitwise_and(image, image, mask=mask_binary)\n",
        "\n",
        "        # 배경 어둡게 하기 (옵션)\n",
        "        background = cv2.addWeighted(image, 0.3, np.zeros_like(image), 0.7, 0)\n",
        "        final_image = cv2.add(emphasized_image, background)\n",
        "\n",
        "        # 명암 대비 조정 (옵션)\n",
        "        clahe = cv2.createCLAHE(clipLimit=2.0, tileGridSize=(8, 8))\n",
        "        for c in range(3):  # RGB 채널별로 적용\n",
        "            final_image[..., c] = clahe.apply(final_image[..., c])\n",
        "\n",
        "        # 저장\n",
        "        save_path = os.path.join(save_dir, image_name + \".jpg\")\n",
        "        cv2.imwrite(save_path, final_image)\n",
        "\n",
        "        print(f\"Saved emphasized image: {save_path}\")\n",
        "\n",
        "# 실행\n",
        "create_emphasized_images(ORIGINAL_IMAGE_DIR, MASK_IMAGE_DIR, SAVE_DIR)\n"
      ],
      "metadata": {
        "id": "aqRwUFKt0YlF"
      },
      "execution_count": null,
      "outputs": []
    }
  ]
}