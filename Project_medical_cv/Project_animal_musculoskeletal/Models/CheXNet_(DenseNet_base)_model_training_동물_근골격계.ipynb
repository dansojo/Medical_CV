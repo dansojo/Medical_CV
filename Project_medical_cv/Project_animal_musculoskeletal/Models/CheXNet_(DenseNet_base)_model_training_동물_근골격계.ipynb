{
  "nbformat": 4,
  "nbformat_minor": 0,
  "metadata": {
    "colab": {
      "provenance": [],
      "gpuType": "T4",
      "mount_file_id": "1sb2F9gGk60gCepO_lHRzOpWfYFkRrc_x",
      "authorship_tag": "ABX9TyM+l3RLlWwJN4y0AU5e3zAO",
      "include_colab_link": true
    },
    "kernelspec": {
      "name": "python3",
      "display_name": "Python 3"
    },
    "language_info": {
      "name": "python"
    },
    "accelerator": "GPU"
  },
  "cells": [
    {
      "cell_type": "markdown",
      "metadata": {
        "id": "view-in-github",
        "colab_type": "text"
      },
      "source": [
        "<a href=\"https://colab.research.google.com/github/dansojo/Medical_CV/blob/main/CheXNet_(DenseNet_base)_model_training_%EB%8F%99%EB%AC%BC_%EA%B7%BC%EA%B3%A8%EA%B2%A9%EA%B3%84.ipynb\" target=\"_parent\"><img src=\"https://colab.research.google.com/assets/colab-badge.svg\" alt=\"Open In Colab\"/></a>"
      ]
    },
    {
      "cell_type": "code",
      "execution_count": null,
      "metadata": {
        "id": "UGbXmI78vKIB"
      },
      "outputs": [],
      "source": [
        "import os\n",
        "import numpy as np\n",
        "import cv2\n",
        "import torch\n",
        "import torch.nn as nn\n",
        "from torch.utils.data import Dataset, DataLoader\n",
        "from torchvision import models, transforms\n",
        "import torch.optim as optim"
      ]
    },
    {
      "cell_type": "markdown",
      "source": [
        "흑백 / 3채널 이미지 수"
      ],
      "metadata": {
        "id": "Vmw1G2h2vahJ"
      }
    },
    {
      "cell_type": "code",
      "source": [
        "# # 이미지 경로 설정\n",
        "# root_dir = '/content/drive/MyDrive/Medical_CV/3/전처리_데이터'\n",
        "\n",
        "# # 각 split 폴더 (train, val, test) 확인\n",
        "# splits = ['train', 'val', 'test']\n",
        "\n",
        "# single_channel_count = 0\n",
        "# three_channel_count = 0\n",
        "\n",
        "# for split in splits:\n",
        "#     split_dir = os.path.join(root_dir, split)\n",
        "#     files = [f for f in os.listdir(split_dir) if f.endswith('.npy')]\n",
        "\n",
        "#     for file in files:\n",
        "#         file_path = os.path.join(split_dir, file)\n",
        "\n",
        "#         # 넘파이 파일 불러오기\n",
        "#         data = np.load(file_path, allow_pickle=True).item()\n",
        "#         image_np = data['image']\n",
        "\n",
        "#         # 채널 수 확인\n",
        "#         if (len(image_np.shape) == 2) or (len(image_np.shape) == 3 and image_np.shape[0] == 1):  # 흑백 이미지 (H, W)\n",
        "#             single_channel_count += 1\n",
        "#         elif len(image_np.shape) == 3 and image_np.shape[2] == 3:  # 3채널 이미지 (H, W, 3)\n",
        "#             three_channel_count += 1\n",
        "\n",
        "# # 결과 출력\n",
        "# print(f\"Single-channel (Grayscale) images: {single_channel_count}\")\n",
        "# print(f\"Three-channel (RGB) images: {three_channel_count}\")"
      ],
      "metadata": {
        "id": "_bebVfI4va1P"
      },
      "execution_count": null,
      "outputs": []
    },
    {
      "cell_type": "markdown",
      "source": [
        "**Custom Dataset 클래스 정의**"
      ],
      "metadata": {
        "id": "0SbHJ2pdvi30"
      }
    },
    {
      "cell_type": "code",
      "source": [
        "class CustomDataset(Dataset):\n",
        "    def __init__(self, root_dir, transform=None, apply_clahe=False):\n",
        "        self.root_dir = root_dir\n",
        "        self.files = [os.path.join(root_dir, f) for f in os.listdir(root_dir) if f.endswith('.npy')]\n",
        "        self.transform = transform\n",
        "        self.apply_clahe = apply_clahe\n",
        "\n",
        "    def __len__(self):\n",
        "        return len(self.files)\n",
        "\n",
        "    def __getitem__(self, idx):\n",
        "        # 넘파이 파일 불러오기\n",
        "        data = np.load(self.files[idx], allow_pickle=True).item()\n",
        "        image_np, label = data['image'], data['label']\n",
        "\n",
        "        # (1, H, W) 형식을 (3, H, W)로 변환\n",
        "        if image_np.shape[0] == 1:  # 단일 채널인 경우\n",
        "            image_np = np.repeat(image_np, 3, axis=0)  # 채널을 3번 반복하여 (3, H, W)로 확장\n",
        "        # ToTensor 변환 적용\n",
        "        image_tensor = torch.tensor(image_np, dtype=torch.float32)\n",
        "\n",
        "        # (H, W, 3) -> (3, H, W)로 변환 필요 시 permute 사용\n",
        "        if image_tensor.shape[0] != 3:\n",
        "            image_tensor = image_tensor.permute(2, 0, 1)\n",
        "\n",
        "\n",
        "        return image_tensor, label"
      ],
      "metadata": {
        "id": "FxtBlcVJviSG"
      },
      "execution_count": null,
      "outputs": []
    },
    {
      "cell_type": "code",
      "source": [
        "# CheXNet (DenseNet-121) 모델 정의\n",
        "class CheXNetModel(nn.Module):\n",
        "    def __init__(self, num_classes=4):\n",
        "        super(CheXNetModel, self).__init__()\n",
        "        # DenseNet-121 기반 모델 초기화\n",
        "        self.model = models.densenet121(pretrained=True)\n",
        "\n",
        "        in_features = self.model.classifier.in_features\n",
        "        self.model.classifier = nn.Sequential(\n",
        "            nn.Dropout(p=0.5),  # Dropout 추가 (과적합 방지)\n",
        "            nn.Linear(in_features, num_classes)\n",
        "        )\n",
        "    def forward(self, x):\n",
        "        return self.model(x)"
      ],
      "metadata": {
        "id": "NtQwOFxMvUB4"
      },
      "execution_count": null,
      "outputs": []
    },
    {
      "cell_type": "code",
      "source": [
        "# 모델 생성 및 장치 설정\n",
        "num_classes = 4  # 클래스 수 (갈비뼈골절, 슬개골탈구, 전십자인대파열, 추간판질환)\n",
        "chexnet_model = CheXNetModel(num_classes=num_classes)\n",
        "device = torch.device(\"cuda\" if torch.cuda.is_available() else \"cpu\")\n",
        "chexnet_model = chexnet_model.to(device)"
      ],
      "metadata": {
        "id": "xfTlVGCDvV5d",
        "colab": {
          "base_uri": "https://localhost:8080/"
        },
        "outputId": "8652bc4b-1409-45a3-c33b-9d06c3868997"
      },
      "execution_count": null,
      "outputs": [
        {
          "output_type": "stream",
          "name": "stderr",
          "text": [
            "/usr/local/lib/python3.10/dist-packages/torchvision/models/_utils.py:208: UserWarning: The parameter 'pretrained' is deprecated since 0.13 and may be removed in the future, please use 'weights' instead.\n",
            "  warnings.warn(\n",
            "/usr/local/lib/python3.10/dist-packages/torchvision/models/_utils.py:223: UserWarning: Arguments other than a weight enum or `None` for 'weights' are deprecated since 0.13 and may be removed in the future. The current behavior is equivalent to passing `weights=DenseNet121_Weights.IMAGENET1K_V1`. You can also use `weights=DenseNet121_Weights.DEFAULT` to get the most up-to-date weights.\n",
            "  warnings.warn(msg)\n",
            "Downloading: \"https://download.pytorch.org/models/densenet121-a639ec97.pth\" to /root/.cache/torch/hub/checkpoints/densenet121-a639ec97.pth\n",
            "100%|██████████| 30.8M/30.8M [00:00<00:00, 123MB/s]\n"
          ]
        }
      ]
    },
    {
      "cell_type": "code",
      "source": [
        "# 옵티마이저 및 학습 하이퍼파라미터 설정\n",
        "learning_rate = 1e-5  # CheXNet에 적합한 초기 러닝 레이트\n",
        "optimizer = optim.Adam(chexnet_model.parameters(), lr=learning_rate)\n",
        "criterion = nn.CrossEntropyLoss()"
      ],
      "metadata": {
        "id": "LPBw14kHvV3b"
      },
      "execution_count": null,
      "outputs": []
    },
    {
      "cell_type": "code",
      "source": [
        "# 데이터셋 경로 설정\n",
        "train_data_path = '/content/drive/MyDrive/Medical_CV/3/전처리_데이터/train'\n",
        "val_data_path = '/content/drive/MyDrive/Medical_CV/3/전처리_데이터/val'\n",
        "\n",
        "\n",
        "train_dataset = CustomDataset(root_dir=train_data_path)\n",
        "val_dataset = CustomDataset(root_dir=val_data_path)\n",
        "\n",
        "# 데이터 로더 준비\n",
        "train_loader = DataLoader(train_dataset, batch_size=32, shuffle=True)\n",
        "val_loader = DataLoader(val_dataset, batch_size=32, shuffle=False)"
      ],
      "metadata": {
        "id": "7h4D3H2fvV1N"
      },
      "execution_count": null,
      "outputs": []
    },
    {
      "cell_type": "code",
      "source": [
        "# 학습 함수 정의\n",
        "def train_model(model, optimizer, criterion, train_loader, val_loader, num_epochs=10):\n",
        "    for epoch in range(num_epochs):\n",
        "        model.train()\n",
        "        running_loss = 0.0\n",
        "        for images, labels in train_loader:\n",
        "            images, labels = images.to(device), labels.to(device)\n",
        "\n",
        "            optimizer.zero_grad()\n",
        "            outputs = model(images)\n",
        "            loss = criterion(outputs, labels)\n",
        "            loss.backward()\n",
        "            optimizer.step()\n",
        "\n",
        "            running_loss += loss.item()\n",
        "\n",
        "\n",
        "        # 에포크마다 평균 손실 계산 및 출력\n",
        "        avg_train_loss = running_loss / len(train_loader)\n",
        "        print(f\"Epoch [{epoch+1}/{num_epochs}], Loss: {avg_train_loss:.4f}\")\n",
        "\n",
        "        # 검증 단계\n",
        "        model.eval()\n",
        "        correct, total = 0, 0\n",
        "        with torch.no_grad():\n",
        "            for images, labels in val_loader:\n",
        "                images, labels = images.to(device), labels.to(device)\n",
        "                outputs = model(images)\n",
        "                _, predicted = torch.max(outputs, 1)\n",
        "                total += labels.size(0)\n",
        "                correct += (predicted == labels).sum().item()\n",
        "\n",
        "        # 정확도 출력\n",
        "        val_accuracy = 100 * correct / total\n",
        "        print(f\"Validation Accuracy: {val_accuracy:.2f}%\")\n",
        "\n",
        "# 모델 학습\n",
        "train_model(chexnet_model, optimizer, criterion, train_loader, val_loader, num_epochs=10)"
      ],
      "metadata": {
        "id": "p-sKOHl6v96q",
        "colab": {
          "base_uri": "https://localhost:8080/"
        },
        "outputId": "52b687c4-1a7e-43a2-a5e8-fcec01460dfd"
      },
      "execution_count": null,
      "outputs": [
        {
          "output_type": "stream",
          "name": "stdout",
          "text": [
            "Epoch [1/10], Loss: 0.8257\n",
            "Validation Accuracy: 77.25%\n",
            "Epoch [2/10], Loss: 0.3369\n",
            "Validation Accuracy: 79.99%\n",
            "Epoch [3/10], Loss: 0.2258\n",
            "Validation Accuracy: 81.13%\n",
            "Epoch [4/10], Loss: 0.1688\n",
            "Validation Accuracy: 83.56%\n",
            "Epoch [5/10], Loss: 0.1376\n",
            "Validation Accuracy: 90.38%\n",
            "Epoch [6/10], Loss: 0.1181\n",
            "Validation Accuracy: 95.35%\n",
            "Epoch [7/10], Loss: 0.0954\n",
            "Validation Accuracy: 92.99%\n",
            "Epoch [8/10], Loss: 0.0828\n",
            "Validation Accuracy: 90.50%\n",
            "Epoch [9/10], Loss: 0.0651\n",
            "Validation Accuracy: 93.31%\n",
            "Epoch [10/10], Loss: 0.0608\n",
            "Validation Accuracy: 93.44%\n"
          ]
        }
      ]
    },
    {
      "cell_type": "code",
      "source": [
        "save_dir = '/content/drive/MyDrive/Medical_CV/models'\n",
        "os.makedirs(save_dir, exist_ok=True)  # 경로가 없으면 생성\n",
        "\n",
        "# 저장 파일 이름 설정\n",
        "save_path = os.path.join(save_dir, 'chexnet_weights_V2.pth')"
      ],
      "metadata": {
        "id": "LO89ImRKPF7n"
      },
      "execution_count": null,
      "outputs": []
    },
    {
      "cell_type": "code",
      "source": [
        "torch.save(chexnet_model.state_dict(), save_path)"
      ],
      "metadata": {
        "id": "4r0Go6RTyQhQ"
      },
      "execution_count": null,
      "outputs": []
    },
    {
      "cell_type": "code",
      "source": [
        "# # 모델 클래스를 다시 정의하고 초기화 후, 가중치 불러오기\n",
        "# loaded_model = CheXNetModel(num_classes=4)  # num_classes는 모델 클래스 정의 시 지정했던 값과 일치해야 합니다\n",
        "# loaded_model.load_state_dict(torch.load('chexnet_weights.pth'))\n",
        "# loaded_model = loaded_model.to(device)\n"
      ],
      "metadata": {
        "id": "dSOW0B-V2VH8"
      },
      "execution_count": null,
      "outputs": []
    }
  ]
}
