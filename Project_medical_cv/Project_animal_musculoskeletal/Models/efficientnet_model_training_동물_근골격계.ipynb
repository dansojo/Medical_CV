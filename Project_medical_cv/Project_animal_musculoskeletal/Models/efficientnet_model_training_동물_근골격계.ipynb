{
  "cells": [
    {
      "cell_type": "markdown",
      "metadata": {
        "id": "view-in-github",
        "colab_type": "text"
      },
      "source": [
        "<a href=\"https://colab.research.google.com/github/dansojo/Medical_CV/blob/main/efficientnet_model_training_%EB%8F%99%EB%AC%BC_%EA%B7%BC%EA%B3%A8%EA%B2%A9%EA%B3%84.ipynb\" target=\"_parent\"><img src=\"https://colab.research.google.com/assets/colab-badge.svg\" alt=\"Open In Colab\"/></a>"
      ]
    },
    {
      "cell_type": "code",
      "execution_count": null,
      "metadata": {
        "id": "Eqj5pePb3B3m"
      },
      "outputs": [],
      "source": [
        "import os\n",
        "import numpy as np\n",
        "import cv2\n",
        "import torch\n",
        "import torch.nn as nn\n",
        "from torch.utils.data import Dataset, DataLoader\n",
        "from torchvision import models, transforms\n",
        "import torch.optim as optim"
      ]
    },
    {
      "cell_type": "markdown",
      "metadata": {
        "id": "Fj5cHek2S9i7"
      },
      "source": [
        " 흑백 / 3채널 이미지 수"
      ]
    },
    {
      "cell_type": "code",
      "execution_count": null,
      "metadata": {
        "colab": {
          "base_uri": "https://localhost:8080/"
        },
        "id": "62kIE6KxN3gu",
        "outputId": "e60c298e-33c1-4e01-9a2c-c8261a9a583e"
      },
      "outputs": [
        {
          "name": "stdout",
          "output_type": "stream",
          "text": [
            "Single-channel (Grayscale) images: 5642\n",
            "Three-channel (RGB) images: 0\n"
          ]
        }
      ],
      "source": [
        "# # 이미지 경로 설정\n",
        "# root_dir = '/content/drive/MyDrive/Medical_CV/3/전처리_데이터'\n",
        "\n",
        "# # 각 split 폴더 (train, val, test) 확인\n",
        "# splits = ['train', 'val', 'test']\n",
        "\n",
        "# single_channel_count = 0\n",
        "# three_channel_count = 0\n",
        "\n",
        "# for split in splits:\n",
        "#     split_dir = os.path.join(root_dir, split)\n",
        "#     files = [f for f in os.listdir(split_dir) if f.endswith('.npy')]\n",
        "\n",
        "#     for file in files:\n",
        "#         file_path = os.path.join(split_dir, file)\n",
        "\n",
        "#         # 넘파이 파일 불러오기\n",
        "#         data = np.load(file_path, allow_pickle=True).item()\n",
        "#         image_np = data['image']\n",
        "\n",
        "#         # 채널 수 확인\n",
        "#         if (len(image_np.shape) == 2) or (len(image_np.shape) == 3 and image_np.shape[0] == 1):  # 흑백 이미지 (H, W)\n",
        "#             single_channel_count += 1\n",
        "#         elif len(image_np.shape) == 3 and image_np.shape[2] == 3:  # 3채널 이미지 (H, W, 3)\n",
        "#             three_channel_count += 1\n",
        "\n",
        "# # 결과 출력\n",
        "# print(f\"Single-channel (Grayscale) images: {single_channel_count}\")\n",
        "# print(f\"Three-channel (RGB) images: {three_channel_count}\")"
      ]
    },
    {
      "cell_type": "markdown",
      "metadata": {
        "id": "f9UmTY9YTIbo"
      },
      "source": [
        "**Custom Dataset 클래스 정의**"
      ]
    },
    {
      "cell_type": "code",
      "execution_count": null,
      "metadata": {
        "id": "T2vx8koC0eVG"
      },
      "outputs": [],
      "source": [
        "\n",
        "class CustomDataset(Dataset):\n",
        "    def __init__(self, root_dir, transform=None, apply_clahe=False):\n",
        "        self.root_dir = root_dir\n",
        "        self.files = [os.path.join(root_dir, f) for f in os.listdir(root_dir) if f.endswith('.npy')]\n",
        "        self.transform = transform\n",
        "        self.apply_clahe = apply_clahe\n",
        "\n",
        "    def __len__(self):\n",
        "        return len(self.files)\n",
        "\n",
        "    def __getitem__(self, idx):\n",
        "        # 넘파이 파일 불러오기\n",
        "        data = np.load(self.files[idx], allow_pickle=True).item()\n",
        "        image_np, label = data['image'], data['label']\n",
        "\n",
        "        # (1, H, W) 형식을 (3, H, W)로 변환\n",
        "        if image_np.shape[0] == 1:  # 단일 채널인 경우\n",
        "            image_np = np.repeat(image_np, 3, axis=0)  # 채널을 3번 반복하여 (3, H, W)로 확장\n",
        "        # ToTensor 변환 적용\n",
        "        image_tensor = torch.tensor(image_np, dtype=torch.float32)\n",
        "\n",
        "        # (H, W, 3) -> (3, H, W)로 변환 필요 시 permute 사용\n",
        "        if image_tensor.shape[0] != 3:\n",
        "            image_tensor = image_tensor.permute(2, 0, 1)\n",
        "\n",
        "\n",
        "        return image_tensor, label\n"
      ]
    },
    {
      "cell_type": "code",
      "source": [
        "# EfficientNet-B0 모델을 위한 커스텀 클래스\n",
        "class EfficientNetB0Model(nn.Module):\n",
        "    def __init__(self, num_classes=4):\n",
        "        super(EfficientNetB0Model, self).__init__()\n",
        "        # 사전 학습된 EfficientNet-B0 모델 로드\n",
        "        self.model = models.efficientnet_b0(pretrained=True)\n",
        "\n",
        "        # 마지막 분류 레이어를 수정하여 num_classes에 맞게 설정\n",
        "        in_features = self.model.classifier[1].in_features\n",
        "\n",
        "        self.model.classifier = nn.Sequential(\n",
        "            nn.Dropout(p=0.5),  # Dropout 추가 (과적합 방지)\n",
        "            nn.Linear(in_features, num_classes)\n",
        "        )\n",
        "\n",
        "    def forward(self, x):\n",
        "        return self.model(x)"
      ],
      "metadata": {
        "id": "DDTy4VTXKB3O"
      },
      "execution_count": null,
      "outputs": []
    },
    {
      "cell_type": "code",
      "source": [
        "# 모델 초기화 및 설정\n",
        "num_classes = 4  # 예측할 클래스 수\n",
        "efficientnet_model = EfficientNetB0Model(num_classes=num_classes)\n",
        "\n",
        "# 장치 설정\n",
        "device = torch.device(\"cuda\" if torch.cuda.is_available() else \"cpu\")\n",
        "efficientnet_model = efficientnet_model.to(device)"
      ],
      "metadata": {
        "id": "jlkgNBP4KOqx"
      },
      "execution_count": null,
      "outputs": []
    },
    {
      "cell_type": "code",
      "source": [
        "# 옵티마이저 및 학습 하이퍼파라미터 설정\n",
        "learning_rate = 1e-6\n",
        "optimizer = optim.Adam(efficientnet_model.parameters(), lr=learning_rate)\n",
        "criterion = torch.nn.CrossEntropyLoss()"
      ],
      "metadata": {
        "id": "w_q6VndXKij9"
      },
      "execution_count": null,
      "outputs": []
    },
    {
      "cell_type": "code",
      "execution_count": null,
      "metadata": {
        "id": "yUeHxINR3ITS"
      },
      "outputs": [],
      "source": [
        "# 데이터셋 경로 설정\n",
        "train_data_path = '/content/drive/MyDrive/Medical_CV/3/전처리_데이터/train'\n",
        "val_data_path = '/content/drive/MyDrive/Medical_CV/3/전처리_데이터/val'\n",
        "\n",
        "\n",
        "train_dataset = CustomDataset(root_dir=train_data_path)\n",
        "val_dataset = CustomDataset(root_dir=val_data_path)\n",
        "\n",
        "train_loader = DataLoader(train_dataset, batch_size=32, shuffle=True)\n",
        "val_loader = DataLoader(val_dataset, batch_size=32, shuffle=False)"
      ]
    },
    {
      "cell_type": "markdown",
      "source": [
        "# 옵티마이저 Test"
      ],
      "metadata": {
        "id": "uMyOrZEHKvpf"
      }
    },
    {
      "cell_type": "code",
      "execution_count": null,
      "metadata": {
        "colab": {
          "base_uri": "https://localhost:8080/"
        },
        "id": "bp_q7pAa1xV6",
        "outputId": "87c167ab-3ae2-4b1a-88aa-728298450092"
      },
      "outputs": [
        {
          "name": "stderr",
          "output_type": "stream",
          "text": [
            "/usr/local/lib/python3.10/dist-packages/torchvision/models/_utils.py:208: UserWarning: The parameter 'pretrained' is deprecated since 0.13 and may be removed in the future, please use 'weights' instead.\n",
            "  warnings.warn(\n",
            "/usr/local/lib/python3.10/dist-packages/torchvision/models/_utils.py:223: UserWarning: Arguments other than a weight enum or `None` for 'weights' are deprecated since 0.13 and may be removed in the future. The current behavior is equivalent to passing `weights=EfficientNet_B0_Weights.IMAGENET1K_V1`. You can also use `weights=EfficientNet_B0_Weights.DEFAULT` to get the most up-to-date weights.\n",
            "  warnings.warn(msg)\n"
          ]
        }
      ],
      "source": [
        "# EfficientNet 모델 로드\n",
        "model = models.efficientnet_b0(pretrained=True)\n",
        "\n",
        "# 마지막 레이어를 클래스를 4개로 분류하도록 수정\n",
        "num_classes = 4\n",
        "model.classifier[1] = torch.nn.Linear(model.classifier[1].in_features, num_classes)\n",
        "\n",
        "# 모델을 GPU로 이동\n",
        "device = torch.device(\"cuda\" if torch.cuda.is_available() else \"cpu\")\n",
        "model = model.to(device)\n"
      ]
    },
    {
      "cell_type": "code",
      "execution_count": null,
      "metadata": {
        "colab": {
          "background_save": true,
          "base_uri": "https://localhost:8080/"
        },
        "id": "xQuo4FTY2Pas",
        "outputId": "3684f281-669b-4667-f6cf-948e3291ee13"
      },
      "outputs": [
        {
          "name": "stdout",
          "output_type": "stream",
          "text": [
            "Training with SGD optimizer\n",
            "[SGD] Epoch [1/5], Loss: 0.7025\n",
            "[SGD] Epoch [2/5], Loss: 0.2245\n",
            "[SGD] Epoch [3/5], Loss: 0.1596\n",
            "[SGD] Epoch [4/5], Loss: 0.1356\n",
            "[SGD] Epoch [5/5], Loss: 0.1190\n",
            "[SGD] Validation Accuracy: 89.87%\n",
            "Training with Adam optimizer\n",
            "[Adam] Epoch [1/5], Loss: 0.1886\n",
            "[Adam] Epoch [2/5], Loss: 0.1288\n",
            "[Adam] Epoch [3/5], Loss: 0.1166\n",
            "[Adam] Epoch [4/5], Loss: 0.0920\n",
            "[Adam] Epoch [5/5], Loss: 0.0731\n",
            "[Adam] Validation Accuracy: 85.15%\n",
            "Training with RAdam optimizer\n",
            "[RAdam] Epoch [1/5], Loss: 0.0429\n",
            "[RAdam] Epoch [2/5], Loss: 0.0391\n"
          ]
        }
      ],
      "source": [
        "# 손실 함수 정의\n",
        "criterion = torch.nn.CrossEntropyLoss()\n",
        "\n",
        "# 옵티마이저 정의\n",
        "optimizers = {\n",
        "    \"SGD\": optim.SGD(model.parameters(), lr=0.001, momentum=0.9),\n",
        "    \"Adam\": optim.Adam(model.parameters(), lr=0.001),\n",
        "    \"RAdam\": optim.RAdam(model.parameters(), lr=0.001)\n",
        "}\n",
        "\n",
        "# 옵티마이저 비교 함수\n",
        "def train_and_evaluate(optimizer, model, train_loader, val_loader, criterion, num_epochs=5):\n",
        "    model.train()\n",
        "    for epoch in range(num_epochs):\n",
        "        running_loss = 0.0\n",
        "        for images, labels in train_loader:\n",
        "            images, labels = images.to(device), labels.to(device)\n",
        "            optimizer.zero_grad()\n",
        "            outputs = model(images)\n",
        "            loss = criterion(outputs, labels)\n",
        "            loss.backward()\n",
        "            optimizer.step()\n",
        "            running_loss += loss.item()\n",
        "        print(f\"[{optimizer.__class__.__name__}] Epoch [{epoch+1}/{num_epochs}], Loss: {running_loss/len(train_loader):.4f}\")\n",
        "\n",
        "    # 간단한 평가 (검증 세트에 대한 정확도)\n",
        "    model.eval()\n",
        "    correct = 0\n",
        "    total = 0\n",
        "    with torch.no_grad():\n",
        "        for images, labels in val_loader:\n",
        "            images, labels = images.to(device), labels.to(device)\n",
        "            outputs = model(images)\n",
        "            _, predicted = torch.max(outputs, 1)\n",
        "            total += labels.size(0)\n",
        "            correct += (predicted == labels).sum().item()\n",
        "    accuracy = 100 * correct / total\n",
        "    print(f\"[{optimizer.__class__.__name__}] Validation Accuracy: {accuracy:.2f}%\")\n",
        "\n",
        "# 각 옵티마이저별로 학습 및 평가 수행\n",
        "for opt_name, optimizer in optimizers.items():\n",
        "    print(f\"Training with {opt_name} optimizer\")\n",
        "    train_and_evaluate(optimizer, model, train_loader, val_loader, criterion)\n"
      ]
    },
    {
      "cell_type": "markdown",
      "metadata": {
        "id": "uG3CKp1JzzAN"
      },
      "source": [
        "# 좋은 결과를 보여주는 옵티마이저로 모델 학습 진행"
      ]
    },
    {
      "cell_type": "code",
      "execution_count": null,
      "metadata": {
        "id": "p-sKOHl6v96q",
        "colab": {
          "base_uri": "https://localhost:8080/"
        },
        "outputId": "d3af68a0-2e79-4ea0-bd8a-c727354aea7a"
      },
      "outputs": [
        {
          "output_type": "stream",
          "name": "stdout",
          "text": [
            "Epoch [1/10], Loss: 1.2215\n",
            "Validation Accuracy: 71.64%\n",
            "Epoch [2/10], Loss: 0.8429\n",
            "Validation Accuracy: 85.79%\n",
            "Epoch [3/10], Loss: 0.5732\n",
            "Validation Accuracy: 89.10%\n",
            "Epoch [4/10], Loss: 0.3972\n",
            "Validation Accuracy: 88.78%\n",
            "Epoch [5/10], Loss: 0.2834\n",
            "Validation Accuracy: 92.03%\n",
            "Epoch [6/10], Loss: 0.2257\n",
            "Validation Accuracy: 87.76%\n",
            "Epoch [7/10], Loss: 0.1882\n",
            "Validation Accuracy: 90.57%\n",
            "Epoch [8/10], Loss: 0.1628\n",
            "Validation Accuracy: 91.20%\n",
            "Epoch [9/10], Loss: 0.1473\n",
            "Validation Accuracy: 93.44%\n",
            "Epoch [10/10], Loss: 0.1305\n",
            "Validation Accuracy: 91.84%\n"
          ]
        }
      ],
      "source": [
        "# 학습 함수 정의\n",
        "def train_model(model, optimizer, criterion, train_loader, val_loader, num_epochs=10):\n",
        "    for epoch in range(num_epochs):\n",
        "        model.train()\n",
        "        running_loss = 0.0\n",
        "        for images, labels in train_loader:\n",
        "            images, labels = images.to(device), labels.to(device)\n",
        "\n",
        "            optimizer.zero_grad()\n",
        "            outputs = model(images)\n",
        "            loss = criterion(outputs, labels)\n",
        "            loss.backward()\n",
        "            optimizer.step()\n",
        "\n",
        "            running_loss += loss.item()\n",
        "\n",
        "        # 에포크마다 평균 손실 계산 및 출력\n",
        "        avg_train_loss = running_loss / len(train_loader)\n",
        "        print(f\"Epoch [{epoch+1}/{num_epochs}], Loss: {avg_train_loss:.4f}\")\n",
        "\n",
        "        # 검증 단계\n",
        "        model.eval()\n",
        "        correct, total = 0, 0\n",
        "        with torch.no_grad():\n",
        "            for images, labels in val_loader:\n",
        "                images, labels = images.to(device), labels.to(device)\n",
        "                outputs = model(images)\n",
        "                _, predicted = torch.max(outputs, 1)\n",
        "                total += labels.size(0)\n",
        "                correct += (predicted == labels).sum().item()\n",
        "\n",
        "        # 정확도 출력\n",
        "        val_accuracy = 100 * correct / total\n",
        "        print(f\"Validation Accuracy: {val_accuracy:.2f}%\")\n",
        "\n",
        "# 모델 학습\n",
        "train_model(efficientnet_model, optimizer, criterion, train_loader, val_loader, num_epochs=15)"
      ]
    },
    {
      "cell_type": "code",
      "source": [
        "save_dir = '/content/drive/MyDrive/Medical_CV/models'\n",
        "os.makedirs(save_dir, exist_ok=True)  # 경로가 없으면 생성\n",
        "\n",
        "# 저장 파일 이름 설정\n",
        "save_path = os.path.join(save_dir, 'efficientnetb0_weights.pth')"
      ],
      "metadata": {
        "id": "fCsBkSf1O86B"
      },
      "execution_count": null,
      "outputs": []
    },
    {
      "cell_type": "code",
      "execution_count": null,
      "metadata": {
        "id": "RIYOzD8KyYKQ"
      },
      "outputs": [],
      "source": [
        "torch.save(efficientnet_model.state_dict(), save_path)"
      ]
    }
  ],
  "metadata": {
    "colab": {
      "provenance": [],
      "gpuType": "T4",
      "collapsed_sections": [
        "uMyOrZEHKvpf"
      ],
      "mount_file_id": "16l1MEHDJKXo6S3YI6e5Z94F80A3jrI66",
      "authorship_tag": "ABX9TyMWHdNxXb1M05zKwIYb9a8m",
      "include_colab_link": true
    },
    "kernelspec": {
      "display_name": "Python 3",
      "name": "python3"
    },
    "language_info": {
      "name": "python"
    },
    "accelerator": "GPU"
  },
  "nbformat": 4,
  "nbformat_minor": 0
}
