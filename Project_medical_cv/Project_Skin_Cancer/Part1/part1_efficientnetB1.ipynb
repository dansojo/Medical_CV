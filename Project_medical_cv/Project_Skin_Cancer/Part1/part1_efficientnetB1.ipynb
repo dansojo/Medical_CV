{
  "nbformat": 4,
  "nbformat_minor": 0,
  "metadata": {
    "colab": {
      "provenance": [],
      "gpuType": "T4",
      "mount_file_id": "1PG51DotvDMQQAfHt4aT65bG3kbDQy91E",
      "authorship_tag": "ABX9TyOU1Pr4eKK00O7q6+nVWWOa",
      "include_colab_link": true
    },
    "kernelspec": {
      "name": "python3",
      "display_name": "Python 3"
    },
    "language_info": {
      "name": "python"
    },
    "accelerator": "GPU"
  },
  "cells": [
    {
      "cell_type": "markdown",
      "metadata": {
        "id": "view-in-github",
        "colab_type": "text"
      },
      "source": [
        "<a href=\"https://colab.research.google.com/github/dansojo/Medical_CV/blob/main/part1_efficientnetB1.ipynb\" target=\"_parent\"><img src=\"https://colab.research.google.com/assets/colab-badge.svg\" alt=\"Open In Colab\"/></a>"
      ]
    },
    {
      "cell_type": "code",
      "execution_count": null,
      "metadata": {
        "id": "6oEo_UbG3-Q5"
      },
      "outputs": [],
      "source": [
        "import os\n",
        "import torch\n",
        "import numpy as np\n",
        "import seaborn as sns\n",
        "import torch.nn as nn\n",
        "import torch.optim as optim\n",
        "import matplotlib.pyplot as plt\n",
        "from torch.nn import Dropout\n",
        "from torch.utils.data import DataLoader, TensorDataset\n",
        "from torchvision.models import efficientnet_b1\n",
        "from sklearn.metrics import accuracy_score, f1_score, confusion_matrix, classification_report"
      ]
    },
    {
      "cell_type": "code",
      "source": [
        "# 설정 값\n",
        "class Config:\n",
        "    TRAIN_PATH = \"/content/drive/MyDrive/Medical_CV/피부암 분류 및 Segmentation/part1_datasets/train_dataset.pt\"\n",
        "    VAL_PATH = \"/content/drive/MyDrive/Medical_CV/피부암 분류 및 Segmentation/part1_datasets/val_dataset.pt\"\n",
        "    TEST_PATH = \"/content/drive/MyDrive/Medical_CV/피부암 분류 및 Segmentation/part1_datasets/test_dataset.pt\"\n",
        "    BATCH_SIZE = 32\n",
        "    EPOCHS = 20\n",
        "    LR = 0.001\n",
        "    DEVICE = torch.device(\"cuda\" if torch.cuda.is_available() else \"cpu\")"
      ],
      "metadata": {
        "id": "d4-nJi5V4Ees"
      },
      "execution_count": null,
      "outputs": []
    },
    {
      "cell_type": "code",
      "source": [
        "# 데이터 로드 함수\n",
        "def load_data(train_path, val_path, test_path):\n",
        "    train_images, train_labels = torch.load(train_path)\n",
        "    val_images, val_labels = torch.load(val_path)\n",
        "    test_images, test_labels = torch.load(test_path)\n",
        "\n",
        "    train_dataset = TensorDataset(train_images, train_labels)\n",
        "    val_dataset = TensorDataset(val_images, val_labels)\n",
        "    test_dataset = TensorDataset(test_images, test_labels)\n",
        "\n",
        "    train_loader = DataLoader(train_dataset, batch_size=Config.BATCH_SIZE, shuffle=True)\n",
        "    val_loader = DataLoader(val_dataset, batch_size=Config.BATCH_SIZE, shuffle=False)\n",
        "    test_loader = DataLoader(test_dataset, batch_size=Config.BATCH_SIZE, shuffle=False)\n",
        "\n",
        "    return train_loader, val_loader, test_loader"
      ],
      "metadata": {
        "id": "gj0EOZgx4EjU"
      },
      "execution_count": null,
      "outputs": []
    },
    {
      "cell_type": "code",
      "source": [
        "\n",
        "# EfficientNet-B1 모델 정의\n",
        "def get_efficientnet_model(num_classes=7):\n",
        "    model = efficientnet_b1(weights='DEFAULT')  # pretrained=True 대신 weights='DEFAULT' 사용\n",
        "    model.classifier = nn.Sequential(\n",
        "        nn.Dropout(p=0.5),  # Dropout 추가 (p는 드롭 확률, 50%)\n",
        "        nn.Linear(model.classifier[1].in_features, num_classes)  # 기존 선형 레이어\n",
        "    )\n",
        "    return model.to(Config.DEVICE)"
      ],
      "metadata": {
        "id": "1AJ8F58T4Elx"
      },
      "execution_count": null,
      "outputs": []
    },
    {
      "cell_type": "code",
      "source": [
        "# 학습 함수\n",
        "def train_model(model, train_loader, val_loader):\n",
        "    criterion = nn.CrossEntropyLoss()\n",
        "    optimizer = optim.Adam(model.parameters(), lr=Config.LR)\n",
        "\n",
        "    for epoch in range(Config.EPOCHS):\n",
        "        model.train()\n",
        "        running_loss = 0.0\n",
        "\n",
        "        for images, labels in train_loader:\n",
        "            images, labels = images.to(Config.DEVICE), labels.to(Config.DEVICE)\n",
        "            optimizer.zero_grad()\n",
        "            outputs = model(images)\n",
        "            loss = criterion(outputs, labels)\n",
        "            loss.backward()\n",
        "            optimizer.step()\n",
        "            running_loss += loss.item()\n",
        "\n",
        "        print(f\"Epoch [{epoch+1}/{Config.EPOCHS}], Loss: {running_loss/len(train_loader):.4f}\")\n",
        "\n",
        "        # Validation\n",
        "        model.eval()\n",
        "        val_loss = 0.0\n",
        "        val_accuracy = []\n",
        "        with torch.no_grad():\n",
        "            for images, labels in val_loader:\n",
        "                images, labels = images.to(Config.DEVICE), labels.to(Config.DEVICE)\n",
        "                outputs = model(images)\n",
        "                loss = criterion(outputs, labels)  # Validation Loss 계산\n",
        "                val_loss += loss.item()\n",
        "                _, preds = torch.max(outputs, 1)\n",
        "                val_accuracy.append(accuracy_score(labels.cpu(), preds.cpu()))\n",
        "        # Training/Validation Loss와 Validation Accuracy 출력\n",
        "        print(f\"Epoch [{epoch+1}/{Config.EPOCHS}], \"\n",
        "              f\"Training Loss: {running_loss/len(train_loader):.4f}, \"\n",
        "              f\"Validation Loss: {val_loss/len(val_loader):.4f}, \"\n",
        "              f\"Validation Accuracy: {sum(val_accuracy)/len(val_accuracy):.4f}\")"
      ],
      "metadata": {
        "id": "HrQsw-C74EoL"
      },
      "execution_count": null,
      "outputs": []
    },
    {
      "cell_type": "code",
      "source": [
        "# 평가 함수\n",
        "def evaluate_model(model, test_loader):\n",
        "    model.eval()\n",
        "    all_preds, all_labels = [], []\n",
        "\n",
        "    with torch.no_grad():\n",
        "        for images, labels in test_loader:\n",
        "            images, labels = images.to(Config.DEVICE), labels.to(Config.DEVICE)\n",
        "            outputs = model(images)\n",
        "            _, preds = torch.max(outputs, 1)\n",
        "            all_preds.extend(preds.cpu().numpy())\n",
        "            all_labels.extend(labels.cpu().numpy())\n",
        "\n",
        "    # 평가 지표\n",
        "    accuracy = accuracy_score(all_labels, all_preds)\n",
        "    f1 = f1_score(all_labels, all_preds, average='weighted')\n",
        "    cm = confusion_matrix(all_labels, all_preds)\n",
        "\n",
        "    print(f\"Test Accuracy: {accuracy:.4f}\")\n",
        "    print(f\"F1 Score: {f1:.4f}\")\n",
        "    print(f\"Confusion Matrix:\\n{cm}\")"
      ],
      "metadata": {
        "id": "rclDqpQh4Eqp"
      },
      "execution_count": null,
      "outputs": []
    },
    {
      "cell_type": "code",
      "source": [
        "train_loader, val_loader, test_loader = load_data(Config.TRAIN_PATH, Config.VAL_PATH, Config.TEST_PATH)"
      ],
      "metadata": {
        "id": "nY3-cPOh4Es6",
        "colab": {
          "base_uri": "https://localhost:8080/"
        },
        "outputId": "bae1cecc-22f3-4c88-8b3b-c5f91c54cab4"
      },
      "execution_count": null,
      "outputs": [
        {
          "output_type": "stream",
          "name": "stderr",
          "text": [
            "<ipython-input-3-76246b475679>:3: FutureWarning: You are using `torch.load` with `weights_only=False` (the current default value), which uses the default pickle module implicitly. It is possible to construct malicious pickle data which will execute arbitrary code during unpickling (See https://github.com/pytorch/pytorch/blob/main/SECURITY.md#untrusted-models for more details). In a future release, the default value for `weights_only` will be flipped to `True`. This limits the functions that could be executed during unpickling. Arbitrary objects will no longer be allowed to be loaded via this mode unless they are explicitly allowlisted by the user via `torch.serialization.add_safe_globals`. We recommend you start setting `weights_only=True` for any use case where you don't have full control of the loaded file. Please open an issue on GitHub for any issues related to this experimental feature.\n",
            "  train_images, train_labels = torch.load(train_path)\n",
            "<ipython-input-3-76246b475679>:4: FutureWarning: You are using `torch.load` with `weights_only=False` (the current default value), which uses the default pickle module implicitly. It is possible to construct malicious pickle data which will execute arbitrary code during unpickling (See https://github.com/pytorch/pytorch/blob/main/SECURITY.md#untrusted-models for more details). In a future release, the default value for `weights_only` will be flipped to `True`. This limits the functions that could be executed during unpickling. Arbitrary objects will no longer be allowed to be loaded via this mode unless they are explicitly allowlisted by the user via `torch.serialization.add_safe_globals`. We recommend you start setting `weights_only=True` for any use case where you don't have full control of the loaded file. Please open an issue on GitHub for any issues related to this experimental feature.\n",
            "  val_images, val_labels = torch.load(val_path)\n",
            "<ipython-input-3-76246b475679>:5: FutureWarning: You are using `torch.load` with `weights_only=False` (the current default value), which uses the default pickle module implicitly. It is possible to construct malicious pickle data which will execute arbitrary code during unpickling (See https://github.com/pytorch/pytorch/blob/main/SECURITY.md#untrusted-models for more details). In a future release, the default value for `weights_only` will be flipped to `True`. This limits the functions that could be executed during unpickling. Arbitrary objects will no longer be allowed to be loaded via this mode unless they are explicitly allowlisted by the user via `torch.serialization.add_safe_globals`. We recommend you start setting `weights_only=True` for any use case where you don't have full control of the loaded file. Please open an issue on GitHub for any issues related to this experimental feature.\n",
            "  test_images, test_labels = torch.load(test_path)\n"
          ]
        }
      ]
    },
    {
      "cell_type": "code",
      "source": [
        "model = get_efficientnet_model()\n",
        "train_model(model, train_loader, val_loader)"
      ],
      "metadata": {
        "id": "IXcTISoF4EvW",
        "colab": {
          "base_uri": "https://localhost:8080/"
        },
        "outputId": "b1bf9b39-82c0-419a-a25b-ddfeed0396ac"
      },
      "execution_count": null,
      "outputs": [
        {
          "output_type": "stream",
          "name": "stderr",
          "text": [
            "Downloading: \"https://download.pytorch.org/models/efficientnet_b1-c27df63c.pth\" to /root/.cache/torch/hub/checkpoints/efficientnet_b1-c27df63c.pth\n",
            "100%|██████████| 30.1M/30.1M [00:00<00:00, 34.3MB/s]\n"
          ]
        },
        {
          "output_type": "stream",
          "name": "stdout",
          "text": [
            "Epoch [1/20], Loss: 0.8850\n",
            "Epoch [1/20], Training Loss: 0.8850, Validation Loss: 0.7864, Validation Accuracy: 0.7773\n",
            "Epoch [2/20], Loss: 0.5724\n",
            "Epoch [2/20], Training Loss: 0.5724, Validation Loss: 0.5621, Validation Accuracy: 0.8047\n",
            "Epoch [3/20], Loss: 0.4530\n",
            "Epoch [3/20], Training Loss: 0.4530, Validation Loss: 0.5980, Validation Accuracy: 0.7930\n",
            "Epoch [4/20], Loss: 0.2962\n",
            "Epoch [4/20], Training Loss: 0.2962, Validation Loss: 0.6248, Validation Accuracy: 0.7900\n",
            "Epoch [5/20], Loss: 0.2279\n",
            "Epoch [5/20], Training Loss: 0.2279, Validation Loss: 0.7875, Validation Accuracy: 0.7930\n",
            "Epoch [6/20], Loss: 0.1660\n",
            "Epoch [6/20], Training Loss: 0.1660, Validation Loss: 0.6957, Validation Accuracy: 0.8164\n",
            "Epoch [7/20], Loss: 0.1152\n",
            "Epoch [7/20], Training Loss: 0.1152, Validation Loss: 0.7368, Validation Accuracy: 0.8223\n",
            "Epoch [8/20], Loss: 0.0996\n",
            "Epoch [8/20], Training Loss: 0.0996, Validation Loss: 0.7669, Validation Accuracy: 0.8213\n",
            "Epoch [9/20], Loss: 0.0654\n",
            "Epoch [9/20], Training Loss: 0.0654, Validation Loss: 0.8549, Validation Accuracy: 0.8125\n",
            "Epoch [10/20], Loss: 0.0835\n",
            "Epoch [10/20], Training Loss: 0.0835, Validation Loss: 0.8597, Validation Accuracy: 0.8096\n",
            "Epoch [11/20], Loss: 0.1229\n",
            "Epoch [11/20], Training Loss: 0.1229, Validation Loss: 0.7720, Validation Accuracy: 0.8164\n",
            "Epoch [12/20], Loss: 0.0979\n",
            "Epoch [12/20], Training Loss: 0.0979, Validation Loss: 0.8688, Validation Accuracy: 0.8174\n",
            "Epoch [13/20], Loss: 0.0522\n",
            "Epoch [13/20], Training Loss: 0.0522, Validation Loss: 0.8125, Validation Accuracy: 0.8145\n",
            "Epoch [14/20], Loss: 0.0372\n",
            "Epoch [14/20], Training Loss: 0.0372, Validation Loss: 0.9164, Validation Accuracy: 0.8311\n",
            "Epoch [15/20], Loss: 0.0430\n",
            "Epoch [15/20], Training Loss: 0.0430, Validation Loss: 0.9223, Validation Accuracy: 0.8291\n",
            "Epoch [16/20], Loss: 0.0492\n",
            "Epoch [16/20], Training Loss: 0.0492, Validation Loss: 1.0731, Validation Accuracy: 0.8008\n",
            "Epoch [17/20], Loss: 0.0459\n",
            "Epoch [17/20], Training Loss: 0.0459, Validation Loss: 1.0967, Validation Accuracy: 0.8076\n",
            "Epoch [18/20], Loss: 0.0283\n",
            "Epoch [18/20], Training Loss: 0.0283, Validation Loss: 0.8863, Validation Accuracy: 0.8174\n",
            "Epoch [19/20], Loss: 0.0437\n",
            "Epoch [19/20], Training Loss: 0.0437, Validation Loss: 1.0037, Validation Accuracy: 0.8340\n",
            "Epoch [20/20], Loss: 0.0422\n",
            "Epoch [20/20], Training Loss: 0.0422, Validation Loss: 0.9910, Validation Accuracy: 0.8008\n"
          ]
        }
      ]
    },
    {
      "cell_type": "code",
      "source": [
        "evaluate_model(model, test_loader)"
      ],
      "metadata": {
        "id": "uppik5z04Qpj",
        "colab": {
          "base_uri": "https://localhost:8080/"
        },
        "outputId": "c4fe4b99-3130-4aed-ba83-c2817d3dd2b0"
      },
      "execution_count": null,
      "outputs": [
        {
          "output_type": "stream",
          "name": "stdout",
          "text": [
            "Test Accuracy: 0.8010\n",
            "F1 Score: 0.7944\n",
            "Confusion Matrix:\n",
            "[[ 70  26   6   2   0   8   1]\n",
            " [ 25 634   5  10   5   6   2]\n",
            " [  3   2   4   0   0   1   1]\n",
            " [ 20  31   0  28   3   4   1]\n",
            " [  0   1   0   2  10   0   0]\n",
            " [  2   3   1   0   2  43   2]\n",
            " [ 10   4   3   2   0   5  12]]\n"
          ]
        }
      ]
    },
    {
      "cell_type": "code",
      "source": [
        "# 모델 저장\n",
        "def save_entire_model(model, save_path):\n",
        "    torch.save(model, save_path)\n",
        "    print(f\"Entire model saved to {save_path}\")\n",
        "\n",
        "# 예시 - 학습 후 저장\n",
        "save_path = \"/content/drive/MyDrive/Medical_CV/피부암 분류 및 Segmentation/part1_datasets/part1_efficientnetB1_model.pth\"\n",
        "save_entire_model(model, save_path)"
      ],
      "metadata": {
        "id": "5ql4n3-L4QnP",
        "colab": {
          "base_uri": "https://localhost:8080/"
        },
        "outputId": "6fa349b8-2475-46cd-bd94-70bd3bd791ff"
      },
      "execution_count": null,
      "outputs": [
        {
          "output_type": "stream",
          "name": "stdout",
          "text": [
            "Entire model saved to /content/drive/MyDrive/Medical_CV/피부암 분류 및 Segmentation/part1_datasets/part1_efficientnetB1_model.pth\n"
          ]
        }
      ]
    },
    {
      "cell_type": "code",
      "source": [
        "# Confusion Matrix 시각화 함수\n",
        "def plot_confusion_matrix(true_labels, predicted_labels, class_names):\n",
        "    cm = confusion_matrix(true_labels, predicted_labels)\n",
        "    plt.figure(figsize=(8, 6))\n",
        "    sns.heatmap(cm, annot=True, fmt=\"d\", cmap=\"Blues\", xticklabels=class_names, yticklabels=class_names)\n",
        "    plt.xlabel(\"Predicted Labels\")\n",
        "    plt.ylabel(\"True Labels\")\n",
        "    plt.title(\"Confusion Matrix\")\n",
        "    plt.show()\n",
        "\n",
        "# 클래스 이름 정의\n",
        "class_names = [\"bkl\", \"nv\", \"df\", \"mel\", \"vasc\", \"bcc\", \"akiec\"]\n",
        "\n",
        "# 모델 평가 및 Confusion Matrix 생성\n",
        "def evaluate_and_plot_confusion_matrix(model, test_loader, class_names):\n",
        "    model.eval()\n",
        "    all_preds = []\n",
        "    all_labels = []\n",
        "\n",
        "    with torch.no_grad():\n",
        "        for images, labels in test_loader:\n",
        "            images, labels = images.to(Config.DEVICE), labels.to(Config.DEVICE)\n",
        "            outputs = model(images)\n",
        "            _, preds = torch.max(outputs, 1)  # 예측값\n",
        "            all_preds.extend(preds.cpu().numpy())\n",
        "            all_labels.extend(labels.cpu().numpy())\n",
        "\n",
        "    # Confusion Matrix 시각화\n",
        "    plot_confusion_matrix(all_labels, all_preds, class_names)\n",
        "\n",
        "    # 테스트 정확도 출력\n",
        "    accuracy = accuracy_score(all_labels, all_preds)\n",
        "    print(f\"Test Accuracy: {accuracy:.4f}\")"
      ],
      "metadata": {
        "id": "ZbIeGyDIqFDs"
      },
      "execution_count": null,
      "outputs": []
    },
    {
      "cell_type": "code",
      "source": [
        "evaluate_and_plot_confusion_matrix(model, test_loader, class_names)"
      ],
      "metadata": {
        "colab": {
          "base_uri": "https://localhost:8080/",
          "height": 582
        },
        "id": "IikyZe8VrM8v",
        "outputId": "52999262-1896-4570-e479-9519e2f32618"
      },
      "execution_count": null,
      "outputs": [
        {
          "output_type": "display_data",
          "data": {
            "text/plain": [
              "<Figure size 800x600 with 2 Axes>"
            ],
            "image/png": "[encoded data removed]"
          },
          "metadata": {}
        },
        {
          "output_type": "stream",
          "name": "stdout",
          "text": [
            "Test Accuracy: 0.8010\n"
          ]
        }
      ]
    },
    {
      "cell_type": "code",
      "source": [
        "# 성능 지표 시각화 함수\n",
        "def plot_classification_metrics(true_labels, predicted_labels, class_names):\n",
        "    # Classification Report 생성\n",
        "    report = classification_report(true_labels, predicted_labels, target_names=class_names, output_dict=True)\n",
        "\n",
        "    # Precision, Recall, F1 Score 추출\n",
        "    metrics = ['precision', 'recall', 'f1-score']\n",
        "    scores = {metric: [report[label][metric] for label in class_names] for metric in metrics}\n",
        "\n",
        "    # 그래프 그리기\n",
        "    x = np.arange(len(class_names))\n",
        "    width = 0.2\n",
        "\n",
        "    plt.figure(figsize=(12, 6))\n",
        "    for i, metric in enumerate(metrics):\n",
        "        plt.bar(x + i * width, scores[metric], width, label=metric)\n",
        "\n",
        "    plt.xlabel('Classes')\n",
        "    plt.ylabel('Scores')\n",
        "    plt.title('Classification Metrics by Class')\n",
        "    plt.xticks(x + width, class_names, rotation=45)\n",
        "    plt.ylim(0, 1)  # 점수 범위를 0~1로 고정\n",
        "    plt.legend()\n",
        "    plt.tight_layout()\n",
        "    plt.show()\n",
        "\n",
        "# 클래스 이름 정의\n",
        "class_names = [\"bkl\", \"nv\", \"df\", \"mel\", \"vasc\", \"bcc\", \"akiec\"]\n",
        "\n",
        "# 모델 평가 및 성능 지표 시각화\n",
        "def evaluate_and_plot_metrics(model, test_loader, class_names):\n",
        "    model.eval()\n",
        "    all_preds = []\n",
        "    all_labels = []\n",
        "\n",
        "    with torch.no_grad():\n",
        "        for images, labels in test_loader:\n",
        "            images, labels = images.to(Config.DEVICE), labels.to(Config.DEVICE)\n",
        "            outputs = model(images)\n",
        "            _, preds = torch.max(outputs, 1)  # 예측값\n",
        "            all_preds.extend(preds.cpu().numpy())\n",
        "            all_labels.extend(labels.cpu().numpy())\n",
        "\n",
        "    # 성능 지표 그래프 그리기\n",
        "    plot_classification_metrics(all_labels, all_preds, class_names)\n",
        "\n",
        "    # Classification Report 출력\n",
        "    print(classification_report(all_labels, all_preds, target_names=class_names))\n"
      ],
      "metadata": {
        "id": "tUYEZkcTuKIq"
      },
      "execution_count": null,
      "outputs": []
    },
    {
      "cell_type": "code",
      "source": [
        "evaluate_and_plot_metrics(model, test_loader, class_names)"
      ],
      "metadata": {
        "colab": {
          "base_uri": "https://localhost:8080/",
          "height": 865
        },
        "id": "eHfPGyaRrfly",
        "outputId": "64be58a9-7eed-4ba0-fd74-29d06cf9ad3d"
      },
      "execution_count": null,
      "outputs": [
        {
          "output_type": "display_data",
          "data": {
            "text/plain": [
              "<Figure size 1200x600 with 1 Axes>"
            ],
            "image/png": "[encoded data removed]"
          },
          "metadata": {}
        },
        {
          "output_type": "stream",
          "name": "stdout",
          "text": [
            "              precision    recall  f1-score   support\n",
            "\n",
            "         bkl       0.54      0.62      0.58       113\n",
            "          nv       0.90      0.92      0.91       687\n",
            "          df       0.21      0.36      0.27        11\n",
            "         mel       0.64      0.32      0.43        87\n",
            "        vasc       0.50      0.77      0.61        13\n",
            "         bcc       0.64      0.81      0.72        53\n",
            "       akiec       0.63      0.33      0.44        36\n",
            "\n",
            "    accuracy                           0.80      1000\n",
            "   macro avg       0.58      0.59      0.56      1000\n",
            "weighted avg       0.80      0.80      0.79      1000\n",
            "\n"
          ]
        }
      ]
    },
    {
      "cell_type": "code",
      "source": [],
      "metadata": {
        "id": "RDxl3l1GrgVX"
      },
      "execution_count": null,
      "outputs": []
    }
  ]
}
