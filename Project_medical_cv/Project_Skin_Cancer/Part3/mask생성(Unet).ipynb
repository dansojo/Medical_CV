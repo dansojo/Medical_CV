{
  "nbformat": 4,
  "nbformat_minor": 0,
  "metadata": {
    "colab": {
      "provenance": [],
      "gpuType": "T4",
      "mount_file_id": "1jdUY9FanENJP8wi9CT0LpNNcn6T8FK-H",
      "authorship_tag": "ABX9TyOeJmTt4JhEVsh74cP8B2lP",
      "include_colab_link": true
    },
    "kernelspec": {
      "name": "python3",
      "display_name": "Python 3"
    },
    "language_info": {
      "name": "python"
    },
    "accelerator": "GPU"
  },
  "cells": [
    {
      "cell_type": "markdown",
      "metadata": {
        "id": "view-in-github",
        "colab_type": "text"
      },
      "source": [
        "<a href=\"https://colab.research.google.com/github/dansojo/Medical_CV/blob/main/mask%EC%83%9D%EC%84%B1(Unet).ipynb\" target=\"_parent\"><img src=\"https://colab.research.google.com/assets/colab-badge.svg\" alt=\"Open In Colab\"/></a>"
      ]
    },
    {
      "cell_type": "code",
      "execution_count": null,
      "metadata": {
        "id": "wuCC_A_TR3rp"
      },
      "outputs": [],
      "source": [
        "import os\n",
        "import cv2\n",
        "import numpy as np\n",
        "import pandas as pd\n",
        "import torch\n",
        "import timm\n",
        "import torch.nn as nn\n",
        "import torch.optim as optim\n",
        "from torchvision import transforms\n",
        "from torch.utils.data import DataLoader, Dataset\n",
        "import torchvision.transforms as T\n",
        "import torch.nn.functional as F\n",
        "from sklearn.model_selection import train_test_split\n",
        "from tqdm import tqdm\n",
        "from PIL import Image\n",
        "import matplotlib.pyplot as plt"
      ]
    },
    {
      "cell_type": "code",
      "source": [
        "class Config:\n",
        "    DATA_DIR = \"/content/drive/MyDrive/Medical_CV/피부암 분류 및 Segmentation/main(A,B)/A(train)/images\"\n",
        "    MASKS_DIR = \"/content/drive/MyDrive/Medical_CV/피부암 분류 및 Segmentation/main(A,B)/A(train)/masks\"\n",
        "    METADATA_DIR = \"/content/drive/MyDrive/Medical_CV/피부암 분류 및 Segmentation/HAM10000_metadata\"\n",
        "    SAVE_MODEL_DIR = \"/content/drive/MyDrive/Medical_CV//피부암 분류 및 Segmentation/part3_datasets\"\n",
        "    SAVE_MASKS_DIR = \"/content/drive/MyDrive/Medical_CV/피부암 분류 및 Segmentation/main(A,B)/B(test)/mask이미지(Segmentation_UNet)\"\n",
        "    TEST_DIR = \"/content/drive/MyDrive/Medical_CV/피부암 분류 및 Segmentation/main(A,B)/B(test)/images\"\n",
        "    BATCH_SIZE = 16\n",
        "    IMAGE_SIZE = (224, 224)\n",
        "    NUM_CLASSES = 1  # Binary Segmentation\n",
        "    EPOCHS = 20\n",
        "    LR = 1e-4\n",
        "    DEVICE = \"cuda\" if torch.cuda.is_available() else \"cpu\""
      ],
      "metadata": {
        "id": "wsxEGD9GpMvX"
      },
      "execution_count": null,
      "outputs": []
    },
    {
      "cell_type": "code",
      "source": [
        "class ImageDataset(Dataset):\n",
        "    def __init__(self, image_dir, mask_dir, metadata, image_transform=None, mask_transform=None):\n",
        "        self.image_dir = image_dir\n",
        "        self.mask_dir = mask_dir\n",
        "        self.metadata = metadata\n",
        "        self.image_transform = image_transform\n",
        "        self.mask_transform = mask_transform\n",
        "\n",
        "    def __len__(self):\n",
        "        return len(self.metadata)\n",
        "\n",
        "    def __getitem__(self, idx):\n",
        "        # 이미지 경로 설정\n",
        "        img_name = self.metadata.iloc[idx]['image_id']\n",
        "        image_path = os.path.join(self.image_dir, img_name + \".jpg\")\n",
        "        mask_path = os.path.join(self.mask_dir, img_name + \"_segmentation.png\")\n",
        "\n",
        "        # 이미지와 마스크 로드\n",
        "        image = Image.open(image_path).convert(\"RGB\")\n",
        "        mask = Image.open(mask_path).convert(\"L\")  # Grayscale로 로드\n",
        "\n",
        "        # 마스크 이진화 (NumPy 배열로 변환 후 0과 1로 구성)\n",
        "        mask = np.array(mask)\n",
        "        mask = (mask > 128).astype(np.float32)  # 이진화 수행\n",
        "\n",
        "        # 변환 적용\n",
        "        if self.image_transform:\n",
        "            image = self.image_transform(image)\n",
        "\n",
        "        if self.mask_transform:\n",
        "            mask = self.mask_transform(Image.fromarray(mask * 255))  # NumPy 배열을 PIL 이미지로 변환 후 적용\n",
        "\n",
        "        # 마스크 채널 차원 추가 (필요한 경우)\n",
        "        if len(mask.shape) == 2:\n",
        "            mask = torch.unsqueeze(torch.tensor(mask), dim=0)\n",
        "\n",
        "        return image, mask\n"
      ],
      "metadata": {
        "id": "vfKVlDrhqRDt"
      },
      "execution_count": null,
      "outputs": []
    },
    {
      "cell_type": "code",
      "source": [
        "def split_data(metadata_path, image_dir):\n",
        "    # 메타데이터 로드\n",
        "    metadata = pd.read_csv(metadata_path)\n",
        "\n",
        "    # 실제 파일과 매칭\n",
        "    image_files = set([f.split('.')[0] for f in os.listdir(image_dir)])\n",
        "    metadata = metadata[metadata['image_id'].isin(image_files)]\n",
        "\n",
        "    # 데이터 분할 (7:1.5:1.5)\n",
        "    train_data, temp_data = train_test_split(metadata, test_size=0.3, random_state=42, stratify=metadata['dx'])\n",
        "    val_data, test_data = train_test_split(temp_data, test_size=0.5, random_state=42, stratify=temp_data['dx'])\n",
        "\n",
        "    return train_data, val_data, test_data"
      ],
      "metadata": {
        "id": "o656kVHU9uH1"
      },
      "execution_count": null,
      "outputs": []
    },
    {
      "cell_type": "code",
      "source": [
        "def get_data_transforms():\n",
        "    # 이미지에만 적용할 변환 (정규화 포함)\n",
        "    image_transform = T.Compose([\n",
        "        T.Resize(Config.IMAGE_SIZE),\n",
        "        T.ToTensor(),\n",
        "        T.Normalize(mean=(0.485, 0.456, 0.406), std=(0.229, 0.224, 0.225))\n",
        "    ])\n",
        "\n",
        "    # 마스크에만 적용할 변환 (정규화 없음)\n",
        "    mask_transform = T.Compose([\n",
        "        T.Resize(Config.IMAGE_SIZE),\n",
        "        T.ToTensor()  # 이진 마스크는 [0, 1] 범위로 변환됨\n",
        "    ])\n",
        "\n",
        "    return image_transform, mask_transform\n"
      ],
      "metadata": {
        "id": "F2e23XpnqQ_U"
      },
      "execution_count": null,
      "outputs": []
    },
    {
      "cell_type": "code",
      "source": [
        "class OptimizedUNet(nn.Module):\n",
        "    def __init__(self, input_channels=3, output_channels=1):\n",
        "        super(OptimizedUNet, self).__init__()\n",
        "\n",
        "        # 인코더\n",
        "        self.enc1 = self._encoder_block(input_channels, 64)\n",
        "        self.enc2 = self._encoder_block(64, 128)\n",
        "        self.enc3 = self._encoder_block(128, 256)\n",
        "        self.enc4 = self._encoder_block(256, 512)\n",
        "\n",
        "        # 병목 층\n",
        "        self.bottleneck = self._bottleneck_block(512, 1024)\n",
        "\n",
        "        # 디코더\n",
        "        self.dec4 = self._decoder_block(1024 + 512, 512)\n",
        "        self.dec3 = self._decoder_block(512 + 256, 256)\n",
        "        self.dec2 = self._decoder_block(256 + 128, 128)\n",
        "        self.dec1 = self._decoder_block(128 + 64, 64)\n",
        "\n",
        "        # 최종 출력 층\n",
        "        self.final_conv = nn.Conv2d(64, output_channels, kernel_size=1)\n",
        "\n",
        "    def _encoder_block(self, in_channels, out_channels):\n",
        "        return nn.Sequential(\n",
        "            nn.Conv2d(in_channels, out_channels, 3, padding=1),\n",
        "            nn.BatchNorm2d(out_channels),\n",
        "            nn.ReLU(inplace=True),\n",
        "            nn.Conv2d(out_channels, out_channels, 3, padding=1),\n",
        "            nn.BatchNorm2d(out_channels),\n",
        "            nn.ReLU(inplace=True)\n",
        "        )\n",
        "\n",
        "    def _bottleneck_block(self, in_channels, out_channels):\n",
        "        return nn.Sequential(\n",
        "            nn.Conv2d(in_channels, out_channels, 3, padding=1),\n",
        "            nn.BatchNorm2d(out_channels),\n",
        "            nn.ReLU(inplace=True),\n",
        "            nn.Conv2d(out_channels, out_channels, 3, padding=1),\n",
        "            nn.BatchNorm2d(out_channels),\n",
        "            nn.ReLU(inplace=True)\n",
        "        )\n",
        "\n",
        "    def _decoder_block(self, in_channels, out_channels):\n",
        "        return nn.Sequential(\n",
        "            nn.Conv2d(in_channels, out_channels, 3, padding=1),\n",
        "            nn.BatchNorm2d(out_channels),\n",
        "            nn.ReLU(inplace=True),\n",
        "            nn.Conv2d(out_channels, out_channels, 3, padding=1),\n",
        "            nn.BatchNorm2d(out_channels),\n",
        "            nn.ReLU(inplace=True)\n",
        "        )\n",
        "\n",
        "    def forward(self, x):\n",
        "        # 인코더 경로\n",
        "        e1 = self.enc1(x)\n",
        "        e2 = self.enc2(F.max_pool2d(e1, 2))\n",
        "        e3 = self.enc3(F.max_pool2d(e2, 2))\n",
        "        e4 = self.enc4(F.max_pool2d(e3, 2))\n",
        "\n",
        "        # 병목 층\n",
        "        b = self.bottleneck(F.max_pool2d(e4, 2))\n",
        "\n",
        "        # 디코더 경로 (스킵 커넥션 활용)\n",
        "        d4 = self.dec4(torch.cat([\n",
        "            F.interpolate(b, size=e4.shape[2:], mode='bilinear', align_corners=False),\n",
        "            e4\n",
        "        ], dim=1))\n",
        "\n",
        "        d3 = self.dec3(torch.cat([\n",
        "            F.interpolate(d4, size=e3.shape[2:], mode='bilinear', align_corners=False),\n",
        "            e3\n",
        "        ], dim=1))\n",
        "\n",
        "        d2 = self.dec2(torch.cat([\n",
        "            F.interpolate(d3, size=e2.shape[2:], mode='bilinear', align_corners=False),\n",
        "            e2\n",
        "        ], dim=1))\n",
        "\n",
        "        d1 = self.dec1(torch.cat([\n",
        "            F.interpolate(d2, size=e1.shape[2:], mode='bilinear', align_corners=False),\n",
        "            e1\n",
        "        ], dim=1))\n",
        "\n",
        "        # 최종 출력\n",
        "        return self.final_conv(d1)\n"
      ],
      "metadata": {
        "id": "UJztBfuPbZoJ"
      },
      "execution_count": null,
      "outputs": []
    },
    {
      "cell_type": "code",
      "source": [
        "def train_model(model, train_loader, val_loader, device, num_epochs=20, learning_rate=1e-4, patience=5):\n",
        "    \"\"\"\n",
        "    모델 학습을 수행하는 함수\n",
        "\n",
        "    Args:\n",
        "        model: 학습할 모델\n",
        "        train_loader: 학습 데이터 로더\n",
        "        val_loader: 검증 데이터 로더\n",
        "        device: 학습에 사용할 디바이스 (cuda/cpu)\n",
        "        num_epochs: 학습 에포크 수\n",
        "        learning_rate: 학습률\n",
        "        patience: Early stopping을 위한 patience 값\n",
        "\n",
        "    Returns:\n",
        "        model: 학습된 모델\n",
        "        best_model_state: 가장 좋은 성능을 보인 모델의 가중치\n",
        "        history: 학습 히스토리\n",
        "    \"\"\"\n",
        "    model = model.to(device)\n",
        "    optimizer = optim.Adam(model.parameters(), lr=learning_rate)\n",
        "    criterion = nn.BCEWithLogitsLoss()  # 손실 함수: BCEWithLogitsLoss\n",
        "    scheduler = torch.optim.lr_scheduler.ReduceLROnPlateau(optimizer, mode='min', patience=3, factor=0.5, verbose=True)\n",
        "\n",
        "    # 학습 관련 변수 초기화\n",
        "    best_val_loss = float('inf')\n",
        "    best_model_state = None\n",
        "    early_stopping_counter = 0\n",
        "    history = {\n",
        "        'train_loss': [],\n",
        "        'val_loss': [],\n",
        "        'train_dice': [],\n",
        "        'val_dice': []\n",
        "    }\n",
        "\n",
        "    print(\"Starting training process...\")\n",
        "    print(f\"Training on device: {device}\")\n",
        "\n",
        "    for epoch in range(num_epochs):\n",
        "        # ----------------------\n",
        "        # Training phase\n",
        "        # ----------------------\n",
        "        model.train()\n",
        "        train_loss = 0.0\n",
        "        train_intersection = 0\n",
        "        train_union = 0\n",
        "        train_batches = 0\n",
        "\n",
        "        progress_bar = tqdm(train_loader, desc=f'Epoch {epoch+1}/{num_epochs} [Training]')\n",
        "\n",
        "        for images, masks in progress_bar:\n",
        "            images, masks = images.to(device), masks.to(device)\n",
        "\n",
        "            # Forward pass\n",
        "            optimizer.zero_grad()\n",
        "            outputs = model(images)\n",
        "            loss = criterion(outputs, masks)\n",
        "\n",
        "            # Backward pass\n",
        "            loss.backward()\n",
        "            optimizer.step()\n",
        "\n",
        "            # 손실값 및 Dice coefficient 계산\n",
        "            train_loss += loss.item()\n",
        "            predicted_masks = (outputs > 0).float()  # BCEWithLogitsLoss 사용 시 0 기준\n",
        "            intersection = (predicted_masks * masks).sum()\n",
        "            union = predicted_masks.sum() + masks.sum()\n",
        "            train_intersection += intersection.item()\n",
        "            train_union += union.item()\n",
        "            train_batches += 1\n",
        "\n",
        "            # 프로그레스바 업데이트\n",
        "            progress_bar.set_postfix({\n",
        "                'loss': f'{loss.item():.4f}',\n",
        "                'dice': f'{(2 * intersection / (union + 1e-8)).item():.4f}'\n",
        "            })\n",
        "\n",
        "        avg_train_loss = train_loss / train_batches\n",
        "        avg_train_dice = (2 * train_intersection) / (train_union + 1e-8)\n",
        "\n",
        "        # ----------------------\n",
        "        # Validation phase\n",
        "        # ----------------------\n",
        "        model.eval()\n",
        "        val_loss = 0.0\n",
        "        val_intersection = 0\n",
        "        val_union = 0\n",
        "        val_batches = 0\n",
        "\n",
        "        with torch.no_grad():\n",
        "            progress_bar = tqdm(val_loader, desc=f'Epoch {epoch+1}/{num_epochs} [Validation]')\n",
        "\n",
        "            for images, masks in progress_bar:\n",
        "                images, masks = images.to(device), masks.to(device)\n",
        "\n",
        "                outputs = model(images)\n",
        "                loss = criterion(outputs, masks)\n",
        "\n",
        "                val_loss += loss.item()\n",
        "                predicted_masks = (outputs > 0).float()\n",
        "                intersection = (predicted_masks * masks).sum()\n",
        "                union = predicted_masks.sum() + masks.sum()\n",
        "                val_intersection += intersection.item()\n",
        "                val_union += union.item()\n",
        "                val_batches += 1\n",
        "\n",
        "                progress_bar.set_postfix({\n",
        "                    'val_loss': f'{loss.item():.4f}',\n",
        "                    'val_dice': f'{(2 * intersection / (union + 1e-8)).item():.4f}'\n",
        "                })\n",
        "\n",
        "        avg_val_loss = val_loss / val_batches\n",
        "        avg_val_dice = (2 * val_intersection) / (val_union + 1e-8)\n",
        "\n",
        "        # 히스토리 업데이트\n",
        "        history['train_loss'].append(avg_train_loss)\n",
        "        history['val_loss'].append(avg_val_loss)\n",
        "        history['train_dice'].append(avg_train_dice)\n",
        "        history['val_dice'].append(avg_val_dice)\n",
        "\n",
        "        # 결과 출력\n",
        "        print(f\"\\nEpoch {epoch+1}/{num_epochs}:\")\n",
        "        print(f\"Train Loss: {avg_train_loss:.4f}, Train Dice: {avg_train_dice:.4f}\")\n",
        "        print(f\"Val Loss: {avg_val_loss:.4f}, Val Dice: {avg_val_dice:.4f}\")\n",
        "\n",
        "        # 학습률 스케줄러 호출\n",
        "        scheduler.step(avg_val_loss)\n",
        "\n",
        "        # 최적 모델 저장\n",
        "        if avg_val_loss < best_val_loss:\n",
        "            best_val_loss = avg_val_loss\n",
        "            best_model_state = model.state_dict()\n",
        "            early_stopping_counter = 0\n",
        "            print(f\"Best model updated at epoch {epoch+1}\")\n",
        "        else:\n",
        "            early_stopping_counter += 1\n",
        "\n",
        "        # Early stopping 체크\n",
        "        if early_stopping_counter >= patience:\n",
        "            print(f\"\\nEarly stopping triggered after {epoch+1} epochs\")\n",
        "            break\n",
        "\n",
        "        # 중간 체크포인트 저장 (5 에포크마다)\n",
        "        if (epoch + 1) % 5 == 0:\n",
        "            checkpoint_path = os.path.join(\n",
        "                Config.SAVE_MODEL_DIR,\n",
        "                f'checkpoint_epoch_{epoch+1}.pth'\n",
        "            )\n",
        "            torch.save({\n",
        "                'epoch': epoch + 1,\n",
        "                'model_state_dict': model.state_dict(),\n",
        "                'optimizer_state_dict': optimizer.state_dict(),\n",
        "                'train_loss': avg_train_loss,\n",
        "                'val_loss': avg_val_loss,\n",
        "                'train_dice': avg_train_dice,\n",
        "                'val_dice': avg_val_dice,\n",
        "                'history': history\n",
        "            }, checkpoint_path)\n",
        "            print(f\"Checkpoint saved at epoch {epoch+1}\")\n",
        "\n",
        "    print(\"Training completed!\")\n",
        "    return model, best_model_state, history"
      ],
      "metadata": {
        "id": "AqwJ390-5e4G"
      },
      "execution_count": null,
      "outputs": []
    },
    {
      "cell_type": "code",
      "source": [
        "def save_model(save_dir, model_state, file_name=\"best_model.pth\"):\n",
        "    \"\"\"\n",
        "    모델 가중치를 저장하는 함수.\n",
        "    \"\"\"\n",
        "    os.makedirs(save_dir, exist_ok=True)\n",
        "    save_path = os.path.join(save_dir, file_name)\n",
        "    torch.save(model_state, save_path)\n",
        "    print(f\"Model saved to {save_path}\")"
      ],
      "metadata": {
        "id": "DGT7w-WsKUju"
      },
      "execution_count": null,
      "outputs": []
    },
    {
      "cell_type": "code",
      "source": [
        "# 1. 데이터 분리\n",
        "train_data, val_data, test_data = split_data(Config.METADATA_DIR, Config.DATA_DIR)\n",
        "\n",
        "# 2. 데이터 로드 및 변환\n",
        "image_transform, mask_transform = get_data_transforms()\n",
        "\n",
        "train_dataset = ImageDataset(Config.DATA_DIR, Config.MASKS_DIR, train_data, image_transform, mask_transform)\n",
        "val_dataset = ImageDataset(Config.DATA_DIR, Config.MASKS_DIR, val_data, image_transform, mask_transform)\n",
        "test_dataset = ImageDataset(Config.DATA_DIR, Config.MASKS_DIR, test_data, image_transform, mask_transform)\n",
        "\n",
        "train_loader = DataLoader(train_dataset, batch_size=Config.BATCH_SIZE, shuffle=True)\n",
        "val_loader = DataLoader(val_dataset, batch_size=Config.BATCH_SIZE, shuffle=False)\n",
        "test_loader = DataLoader(test_dataset, batch_size=Config.BATCH_SIZE, shuffle=False)"
      ],
      "metadata": {
        "id": "VejwLE68KUgw"
      },
      "execution_count": null,
      "outputs": []
    },
    {
      "cell_type": "code",
      "source": [
        "for images, masks in train_loader:\n",
        "    print(f\"Image batch shape: {images.shape}\")  # 이미지 형태 출력\n",
        "    print(f\"Mask batch shape: {masks.shape}\")    # 마스크 형태 출력\n",
        "    break  # 첫 번째 배치만 출력하고 종료"
      ],
      "metadata": {
        "id": "0LvILRGnKUeR",
        "colab": {
          "base_uri": "https://localhost:8080/"
        },
        "outputId": "fcf55d94-ddb4-476c-9b8c-baf0181eda4e"
      },
      "execution_count": null,
      "outputs": [
        {
          "output_type": "stream",
          "name": "stdout",
          "text": [
            "Image batch shape: torch.Size([16, 3, 224, 224])\n",
            "Mask batch shape: torch.Size([16, 1, 224, 224])\n"
          ]
        }
      ]
    },
    {
      "cell_type": "code",
      "source": [
        "%env CUDA_LAUNCH_BLOCKING=1"
      ],
      "metadata": {
        "id": "0kqJ9Y5yKY4Y",
        "colab": {
          "base_uri": "https://localhost:8080/"
        },
        "outputId": "9387b26a-0d49-4cb3-ca2c-6a0a19d5b36a"
      },
      "execution_count": null,
      "outputs": [
        {
          "output_type": "stream",
          "name": "stdout",
          "text": [
            "env: CUDA_LAUNCH_BLOCKING=1\n"
          ]
        }
      ]
    },
    {
      "cell_type": "code",
      "source": [
        "# 3. 모델 학습\n",
        "model = OptimizedUNet(input_channels=3, output_channels=1)\n",
        "trained_model, best_model_state, history = train_model(model, train_loader, val_loader, Config.DEVICE)\n",
        "\n",
        "# 최적 모델 저장\n",
        "save_path = os.path.join(Config.SAVE_MODEL_DIR, \"best_model_basic.pth\")\n",
        "torch.save(best_model_state, save_path)\n",
        "print(f\"Best model saved to {save_path}\")"
      ],
      "metadata": {
        "id": "8D90BXXO5juH",
        "colab": {
          "base_uri": "https://localhost:8080/"
        },
        "outputId": "8dbc3ece-1882-48d9-d069-6a6cdb4fee30"
      },
      "execution_count": null,
      "outputs": [
        {
          "output_type": "stream",
          "name": "stderr",
          "text": [
            "/usr/local/lib/python3.11/dist-packages/torch/optim/lr_scheduler.py:62: UserWarning: The verbose parameter is deprecated. Please use get_last_lr() to access the learning rate.\n",
            "  warnings.warn(\n"
          ]
        },
        {
          "output_type": "stream",
          "name": "stdout",
          "text": [
            "Starting training process...\n",
            "Training on device: cuda\n"
          ]
        },
        {
          "output_type": "stream",
          "name": "stderr",
          "text": [
            "Epoch 1/20 [Training]: 100%|██████████| 395/395 [54:49<00:00,  8.33s/it, loss=-414.4080, dice=1.9730]\n",
            "Epoch 1/20 [Validation]: 100%|██████████| 85/85 [10:24<00:00,  7.35s/it, val_loss=-203.7657, val_dice=1.9408]\n"
          ]
        },
        {
          "output_type": "stream",
          "name": "stdout",
          "text": [
            "\n",
            "Epoch 1/20:\n",
            "Train Loss: -291.8105, Train Dice: 1.9356\n",
            "Val Loss: -360.0321, Val Dice: 1.9735\n",
            "Best model updated at epoch 1\n"
          ]
        },
        {
          "output_type": "stream",
          "name": "stderr",
          "text": [
            "Epoch 2/20 [Training]: 100%|██████████| 395/395 [06:35<00:00,  1.00s/it, loss=-739.2665, dice=1.9816]\n",
            "Epoch 2/20 [Validation]: 100%|██████████| 85/85 [00:46<00:00,  1.82it/s, val_loss=-344.5241, val_dice=1.9349]\n"
          ]
        },
        {
          "output_type": "stream",
          "name": "stdout",
          "text": [
            "\n",
            "Epoch 2/20:\n",
            "Train Loss: -518.0941, Train Dice: 1.9740\n",
            "Val Loss: -635.3783, Val Dice: 1.9739\n",
            "Best model updated at epoch 2\n"
          ]
        },
        {
          "output_type": "stream",
          "name": "stderr",
          "text": [
            "Epoch 3/20 [Training]: 100%|██████████| 395/395 [06:30<00:00,  1.01it/s, loss=-876.9067, dice=1.9719]\n",
            "Epoch 3/20 [Validation]: 100%|██████████| 85/85 [00:45<00:00,  1.86it/s, val_loss=-441.2098, val_dice=1.9221]\n"
          ]
        },
        {
          "output_type": "stream",
          "name": "stdout",
          "text": [
            "\n",
            "Epoch 3/20:\n",
            "Train Loss: -766.5293, Train Dice: 1.9739\n",
            "Val Loss: -831.1114, Val Dice: 1.9739\n",
            "Best model updated at epoch 3\n"
          ]
        },
        {
          "output_type": "stream",
          "name": "stderr",
          "text": [
            "Epoch 4/20 [Training]: 100%|██████████| 395/395 [06:30<00:00,  1.01it/s, loss=-1258.4839, dice=1.9777]\n",
            "Epoch 4/20 [Validation]: 100%|██████████| 85/85 [00:46<00:00,  1.84it/s, val_loss=-619.5580, val_dice=1.8627]\n"
          ]
        },
        {
          "output_type": "stream",
          "name": "stdout",
          "text": [
            "\n",
            "Epoch 4/20:\n",
            "Train Loss: -1049.3190, Train Dice: 1.9744\n",
            "Val Loss: -1188.5966, Val Dice: 1.9745\n",
            "Best model updated at epoch 4\n"
          ]
        },
        {
          "output_type": "stream",
          "name": "stderr",
          "text": [
            "Epoch 5/20 [Training]: 100%|██████████| 395/395 [06:30<00:00,  1.01it/s, loss=-1827.0453, dice=1.9845]\n",
            "Epoch 5/20 [Validation]: 100%|██████████| 85/85 [00:45<00:00,  1.87it/s, val_loss=-768.7884, val_dice=1.8410]\n"
          ]
        },
        {
          "output_type": "stream",
          "name": "stdout",
          "text": [
            "\n",
            "Epoch 5/20:\n",
            "Train Loss: -1365.2597, Train Dice: 1.9748\n",
            "Val Loss: -1411.8290, Val Dice: 1.9747\n",
            "Best model updated at epoch 5\n",
            "Checkpoint saved at epoch 5\n"
          ]
        },
        {
          "output_type": "stream",
          "name": "stderr",
          "text": [
            "Epoch 6/20 [Training]: 100%|██████████| 395/395 [06:34<00:00,  1.00it/s, loss=-1946.4741, dice=1.9716]\n",
            "Epoch 6/20 [Validation]: 100%|██████████| 85/85 [00:45<00:00,  1.86it/s, val_loss=-1007.0610, val_dice=1.8418]\n"
          ]
        },
        {
          "output_type": "stream",
          "name": "stdout",
          "text": [
            "\n",
            "Epoch 6/20:\n",
            "Train Loss: -1712.0997, Train Dice: 1.9753\n",
            "Val Loss: -1944.5062, Val Dice: 1.9753\n",
            "Best model updated at epoch 6\n"
          ]
        },
        {
          "output_type": "stream",
          "name": "stderr",
          "text": [
            "Epoch 7/20 [Training]: 100%|██████████| 395/395 [06:28<00:00,  1.02it/s, loss=-1919.9767, dice=1.9629]\n",
            "Epoch 7/20 [Validation]: 100%|██████████| 85/85 [00:45<00:00,  1.87it/s, val_loss=-1188.5236, val_dice=1.8883]\n"
          ]
        },
        {
          "output_type": "stream",
          "name": "stdout",
          "text": [
            "\n",
            "Epoch 7/20:\n",
            "Train Loss: -2086.4007, Train Dice: 1.9762\n",
            "Val Loss: -2238.4614, Val Dice: 1.9764\n",
            "Best model updated at epoch 7\n"
          ]
        },
        {
          "output_type": "stream",
          "name": "stderr",
          "text": [
            "Epoch 8/20 [Training]: 100%|██████████| 395/395 [06:30<00:00,  1.01it/s, loss=-3130.9778, dice=1.9857]\n",
            "Epoch 8/20 [Validation]: 100%|██████████| 85/85 [00:45<00:00,  1.87it/s, val_loss=-1455.3641, val_dice=1.9082]\n"
          ]
        },
        {
          "output_type": "stream",
          "name": "stdout",
          "text": [
            "\n",
            "Epoch 8/20:\n",
            "Train Loss: -2495.7679, Train Dice: 1.9774\n",
            "Val Loss: -2693.7503, Val Dice: 1.9765\n",
            "Best model updated at epoch 8\n"
          ]
        },
        {
          "output_type": "stream",
          "name": "stderr",
          "text": [
            "Epoch 9/20 [Training]: 100%|██████████| 395/395 [06:32<00:00,  1.01it/s, loss=-3106.3313, dice=1.9797]\n",
            "Epoch 9/20 [Validation]: 100%|██████████| 85/85 [00:45<00:00,  1.87it/s, val_loss=-1731.7222, val_dice=1.8878]\n"
          ]
        },
        {
          "output_type": "stream",
          "name": "stdout",
          "text": [
            "\n",
            "Epoch 9/20:\n",
            "Train Loss: -2923.7434, Train Dice: 1.9780\n",
            "Val Loss: -3174.2046, Val Dice: 1.9781\n",
            "Best model updated at epoch 9\n"
          ]
        },
        {
          "output_type": "stream",
          "name": "stderr",
          "text": [
            "Epoch 10/20 [Training]: 100%|██████████| 395/395 [06:30<00:00,  1.01it/s, loss=-3559.0232, dice=1.9776]\n",
            "Epoch 10/20 [Validation]: 100%|██████████| 85/85 [00:45<00:00,  1.86it/s, val_loss=-1901.3300, val_dice=1.8363]\n"
          ]
        },
        {
          "output_type": "stream",
          "name": "stdout",
          "text": [
            "\n",
            "Epoch 10/20:\n",
            "Train Loss: -3385.0668, Train Dice: 1.9783\n",
            "Val Loss: -3581.4042, Val Dice: 1.9780\n",
            "Best model updated at epoch 10\n",
            "Checkpoint saved at epoch 10\n"
          ]
        },
        {
          "output_type": "stream",
          "name": "stderr",
          "text": [
            "Epoch 11/20 [Training]: 100%|██████████| 395/395 [06:32<00:00,  1.01it/s, loss=-3415.8965, dice=1.9736]\n",
            "Epoch 11/20 [Validation]: 100%|██████████| 85/85 [00:45<00:00,  1.88it/s, val_loss=-2042.6554, val_dice=1.8573]\n"
          ]
        },
        {
          "output_type": "stream",
          "name": "stdout",
          "text": [
            "\n",
            "Epoch 11/20:\n",
            "Train Loss: -3870.2794, Train Dice: 1.9786\n",
            "Val Loss: -4022.5170, Val Dice: 1.9784\n",
            "Best model updated at epoch 11\n"
          ]
        },
        {
          "output_type": "stream",
          "name": "stderr",
          "text": [
            "Epoch 12/20 [Training]: 100%|██████████| 395/395 [06:31<00:00,  1.01it/s, loss=-4241.3589, dice=1.9753]\n",
            "Epoch 12/20 [Validation]: 100%|██████████| 85/85 [00:45<00:00,  1.87it/s, val_loss=-2383.5652, val_dice=1.9675]\n"
          ]
        },
        {
          "output_type": "stream",
          "name": "stdout",
          "text": [
            "\n",
            "Epoch 12/20:\n",
            "Train Loss: -4381.9332, Train Dice: 1.9790\n",
            "Val Loss: -4395.4130, Val Dice: 1.9777\n",
            "Best model updated at epoch 12\n"
          ]
        },
        {
          "output_type": "stream",
          "name": "stderr",
          "text": [
            "Epoch 13/20 [Training]: 100%|██████████| 395/395 [06:31<00:00,  1.01it/s, loss=-4866.1538, dice=1.9767]\n",
            "Epoch 13/20 [Validation]: 100%|██████████| 85/85 [00:45<00:00,  1.87it/s, val_loss=-2593.7595, val_dice=1.8193]\n"
          ]
        },
        {
          "output_type": "stream",
          "name": "stdout",
          "text": [
            "\n",
            "Epoch 13/20:\n",
            "Train Loss: -4915.6494, Train Dice: 1.9790\n",
            "Val Loss: -4911.3679, Val Dice: 1.9773\n",
            "Best model updated at epoch 13\n"
          ]
        },
        {
          "output_type": "stream",
          "name": "stderr",
          "text": [
            "Epoch 14/20 [Training]: 100%|██████████| 395/395 [06:31<00:00,  1.01it/s, loss=-5716.9292, dice=1.9818]\n",
            "Epoch 14/20 [Validation]: 100%|██████████| 85/85 [00:45<00:00,  1.86it/s, val_loss=-3019.5593, val_dice=1.8891]\n"
          ]
        },
        {
          "output_type": "stream",
          "name": "stdout",
          "text": [
            "\n",
            "Epoch 14/20:\n",
            "Train Loss: -5477.4149, Train Dice: 1.9792\n",
            "Val Loss: -5593.8803, Val Dice: 1.9775\n",
            "Best model updated at epoch 14\n"
          ]
        },
        {
          "output_type": "stream",
          "name": "stderr",
          "text": [
            "Epoch 15/20 [Training]: 100%|██████████| 395/395 [06:30<00:00,  1.01it/s, loss=-6642.2349, dice=1.9815]\n",
            "Epoch 15/20 [Validation]: 100%|██████████| 85/85 [00:45<00:00,  1.88it/s, val_loss=-3211.5537, val_dice=1.9158]\n"
          ]
        },
        {
          "output_type": "stream",
          "name": "stdout",
          "text": [
            "\n",
            "Epoch 15/20:\n",
            "Train Loss: -6062.0509, Train Dice: 1.9793\n",
            "Val Loss: -5896.7059, Val Dice: 1.9779\n",
            "Best model updated at epoch 15\n",
            "Checkpoint saved at epoch 15\n"
          ]
        },
        {
          "output_type": "stream",
          "name": "stderr",
          "text": [
            "Epoch 16/20 [Training]: 100%|██████████| 395/395 [06:32<00:00,  1.01it/s, loss=-6937.5366, dice=1.9799]\n",
            "Epoch 16/20 [Validation]: 100%|██████████| 85/85 [00:45<00:00,  1.85it/s, val_loss=-3555.5356, val_dice=1.8866]\n"
          ]
        },
        {
          "output_type": "stream",
          "name": "stdout",
          "text": [
            "\n",
            "Epoch 16/20:\n",
            "Train Loss: -6669.6619, Train Dice: 1.9791\n",
            "Val Loss: -6644.3440, Val Dice: 1.9789\n",
            "Best model updated at epoch 16\n"
          ]
        },
        {
          "output_type": "stream",
          "name": "stderr",
          "text": [
            "Epoch 17/20 [Training]: 100%|██████████| 395/395 [06:31<00:00,  1.01it/s, loss=-8143.3794, dice=1.9840]\n",
            "Epoch 17/20 [Validation]: 100%|██████████| 85/85 [00:45<00:00,  1.86it/s, val_loss=-4085.6140, val_dice=1.9468]\n"
          ]
        },
        {
          "output_type": "stream",
          "name": "stdout",
          "text": [
            "\n",
            "Epoch 17/20:\n",
            "Train Loss: -7302.2729, Train Dice: 1.9801\n",
            "Val Loss: -7529.8616, Val Dice: 1.9780\n",
            "Best model updated at epoch 17\n"
          ]
        },
        {
          "output_type": "stream",
          "name": "stderr",
          "text": [
            "Epoch 18/20 [Training]: 100%|██████████| 395/395 [06:32<00:00,  1.01it/s, loss=-10397.9971, dice=1.9876]\n",
            "Epoch 18/20 [Validation]: 100%|██████████| 85/85 [00:45<00:00,  1.88it/s, val_loss=-4114.6470, val_dice=1.9528]\n"
          ]
        },
        {
          "output_type": "stream",
          "name": "stdout",
          "text": [
            "\n",
            "Epoch 18/20:\n",
            "Train Loss: -7963.5363, Train Dice: 1.9799\n",
            "Val Loss: -7564.6983, Val Dice: 1.9782\n",
            "Best model updated at epoch 18\n"
          ]
        },
        {
          "output_type": "stream",
          "name": "stderr",
          "text": [
            "Epoch 19/20 [Training]: 100%|██████████| 395/395 [06:29<00:00,  1.01it/s, loss=-9042.0850, dice=1.9829]\n",
            "Epoch 19/20 [Validation]: 100%|██████████| 85/85 [00:45<00:00,  1.88it/s, val_loss=-4392.1558, val_dice=1.8941]\n"
          ]
        },
        {
          "output_type": "stream",
          "name": "stdout",
          "text": [
            "\n",
            "Epoch 19/20:\n",
            "Train Loss: -8644.6407, Train Dice: 1.9801\n",
            "Val Loss: -8234.6172, Val Dice: 1.9789\n",
            "Best model updated at epoch 19\n"
          ]
        },
        {
          "output_type": "stream",
          "name": "stderr",
          "text": [
            "Epoch 20/20 [Training]: 100%|██████████| 395/395 [06:28<00:00,  1.02it/s, loss=-13244.5361, dice=1.9853]\n",
            "Epoch 20/20 [Validation]: 100%|██████████| 85/85 [00:45<00:00,  1.89it/s, val_loss=-4769.1533, val_dice=1.9457]\n"
          ]
        },
        {
          "output_type": "stream",
          "name": "stdout",
          "text": [
            "\n",
            "Epoch 20/20:\n",
            "Train Loss: -9368.2995, Train Dice: 1.9804\n",
            "Val Loss: -8774.0324, Val Dice: 1.9786\n",
            "Best model updated at epoch 20\n",
            "Checkpoint saved at epoch 20\n",
            "Training completed!\n",
            "Best model saved to /content/drive/MyDrive/Medical_CV//피부암 분류 및 Segmentation/part3_datasets/best_model_basic.pth\n"
          ]
        }
      ]
    },
    {
      "cell_type": "code",
      "source": [
        "# Train vs Validation Loss\n",
        "plt.figure(figsize=(10, 5))\n",
        "plt.plot(history['train_loss'], label='Train Loss')\n",
        "plt.plot(history['val_loss'], label='Val Loss')\n",
        "plt.xlabel('Epochs')\n",
        "plt.ylabel('Loss')\n",
        "plt.title('Train vs Validation Loss')\n",
        "plt.legend()\n",
        "plt.show()\n",
        "\n",
        "# Train vs Validation Dice Coefficient\n",
        "plt.figure(figsize=(10, 5))\n",
        "plt.plot(history['train_dice'], label='Train Dice')\n",
        "plt.plot(history['val_dice'], label='Val Dice')\n",
        "plt.xlabel('Epochs')\n",
        "plt.ylabel('Dice Coefficient')\n",
        "plt.title('Train vs Validation Dice Coefficient')\n",
        "plt.legend()\n",
        "plt.show()"
      ],
      "metadata": {
        "id": "WRrJGTnEKbmB",
        "colab": {
          "base_uri": "https://localhost:8080/",
          "height": 831
        },
        "outputId": "a718fd00-4722-4a86-c405-945a91c8f253"
      },
      "execution_count": null,
      "outputs": [
        {
          "output_type": "display_data",
          "data": {
            "text/plain": [
              "<Figure size 1000x500 with 1 Axes>"
            ],
            "image/png": "[encoded data removed]"
          },
          "metadata": {}
        },
        {
          "output_type": "display_data",
          "data": {
            "text/plain": [
              "<Figure size 1000x500 with 1 Axes>"
            ],
            "image/png": "[encoded data removed]"
          },
          "metadata": {}
        }
      ]
    },
    {
      "cell_type": "code",
      "source": [
        "class TestImageDataset(Dataset):\n",
        "    def __init__(self, image_dir, transform=None):\n",
        "        self.image_dir = image_dir\n",
        "        self.image_files = sorted([f for f in os.listdir(image_dir) if f.endswith('.jpg')])\n",
        "        self.transform = transform\n",
        "\n",
        "    def __len__(self):\n",
        "        return len(self.image_files)\n",
        "\n",
        "    def __getitem__(self, idx):\n",
        "        image_path = os.path.join(self.image_dir, self.image_files[idx])\n",
        "        image = Image.open(image_path).convert(\"RGB\")\n",
        "        image_id = self.image_files[idx].split('.')[0]\n",
        "\n",
        "        if self.transform:\n",
        "            image = self.transform(image)\n",
        "\n",
        "        return image, image_id"
      ],
      "metadata": {
        "id": "6-eikif7KbgP"
      },
      "execution_count": null,
      "outputs": []
    },
    {
      "cell_type": "code",
      "source": [
        "def generate_and_save_masks(model, data_loader, save_dir, device):\n",
        "    model.eval()\n",
        "    os.makedirs(save_dir, exist_ok=True)\n",
        "\n",
        "    with torch.no_grad():\n",
        "        for batch in tqdm(data_loader, desc=\"Generating masks\"):\n",
        "            images, image_ids = batch\n",
        "            images = images.to(device)\n",
        "            outputs = model(images)\n",
        "            predictions = torch.sigmoid(outputs) > 0.5  # sigmoid 적용 후 이진화\n",
        "\n",
        "            for pred, img_id in zip(predictions, image_ids):\n",
        "                mask = pred.squeeze().cpu().numpy() * 255\n",
        "                mask_path = os.path.join(save_dir, f\"{img_id}_generated.png\")\n",
        "                cv2.imwrite(mask_path, mask.astype(np.uint8))\n",
        "\n",
        "    print(f\"Masks saved to {save_dir}\")"
      ],
      "metadata": {
        "id": "mqhhReU8Kbdl"
      },
      "execution_count": null,
      "outputs": []
    },
    {
      "cell_type": "code",
      "source": [
        "# 테스트 이미지 경로\n",
        "test_image_dir = Config.TEST_DIR\n",
        "\n",
        "# 변환 정의 (학습에 사용한 것과 동일하게 적용)\n",
        "test_transform = T.Compose([\n",
        "    T.Resize(Config.IMAGE_SIZE),\n",
        "    T.ToTensor(),\n",
        "    T.Normalize(mean=(0.485, 0.456, 0.406), std=(0.229, 0.224, 0.225))\n",
        "])\n",
        "\n",
        "# 테스트 데이터셋 및 데이터 로더 생성\n",
        "Test_Dataset = TestImageDataset(test_image_dir, transform=test_transform)\n",
        "Test_Loader = DataLoader(Test_Dataset, batch_size=Config.BATCH_SIZE, shuffle=False, num_workers=2,\n",
        "                        pin_memory=True)\n",
        "\n",
        "# 학습된 모델로 테스트 데이터에 대한 마스크 생성 및 저장\n",
        "generate_and_save_masks(trained_model, Test_Loader, Config.SAVE_MASKS_DIR, Config.DEVICE)"
      ],
      "metadata": {
        "id": "4TqR_7XOKba_",
        "colab": {
          "base_uri": "https://localhost:8080/"
        },
        "outputId": "ee039a73-522f-4e1e-8c29-f9dc25808f9f"
      },
      "execution_count": null,
      "outputs": [
        {
          "output_type": "stream",
          "name": "stderr",
          "text": [
            "Generating masks: 100%|██████████| 63/63 [00:50<00:00,  1.26it/s]"
          ]
        },
        {
          "output_type": "stream",
          "name": "stdout",
          "text": [
            "Masks saved to /content/drive/MyDrive/Medical_CV/피부암 분류 및 Segmentation/main(A,B)/B(test)/mask이미지(Segmentation_UNet)\n"
          ]
        },
        {
          "output_type": "stream",
          "name": "stderr",
          "text": [
            "\n"
          ]
        }
      ]
    }
  ]
}
