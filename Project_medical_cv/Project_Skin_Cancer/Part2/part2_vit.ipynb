{
  "nbformat": 4,
  "nbformat_minor": 0,
  "metadata": {
    "colab": {
      "provenance": [],
      "gpuType": "T4",
      "mount_file_id": "1GcnkNhdIkChVY-nj4xoEdASFoIyOiDDg",
      "authorship_tag": "ABX9TyOlg2LrWDJXVQPO3y/k88Yw",
      "include_colab_link": true
    },
    "kernelspec": {
      "name": "python3",
      "display_name": "Python 3"
    },
    "language_info": {
      "name": "python"
    },
    "accelerator": "GPU"
  },
  "cells": [
    {
      "cell_type": "markdown",
      "metadata": {
        "id": "view-in-github",
        "colab_type": "text"
      },
      "source": [
        "<a href=\"https://colab.research.google.com/github/dansojo/Medical_CV/blob/main/part2_vit.ipynb\" target=\"_parent\"><img src=\"https://colab.research.google.com/assets/colab-badge.svg\" alt=\"Open In Colab\"/></a>"
      ]
    },
    {
      "cell_type": "code",
      "execution_count": null,
      "metadata": {
        "id": "2y4sVKoxj5jj"
      },
      "outputs": [],
      "source": [
        "import os\n",
        "import torch\n",
        "import numpy as np\n",
        "import seaborn as sns\n",
        "import torch.nn as nn\n",
        "import torch.optim as optim\n",
        "import matplotlib.pyplot as plt\n",
        "from torch.nn import Dropout\n",
        "from torch.utils.data import DataLoader, TensorDataset\n",
        "from torchvision.models import vit_b_16, ViT_B_16_Weights\n",
        "from sklearn.metrics import accuracy_score, f1_score, confusion_matrix, classification_report"
      ]
    },
    {
      "cell_type": "code",
      "source": [
        "# 설정 값\n",
        "class Config:\n",
        "    TRAIN_PATH = \"/content/drive/MyDrive/Medical_CV/피부암 분류 및 Segmentation/part2_datasets/train_dataset.pt\"\n",
        "    VAL_PATH = \"/content/drive/MyDrive/Medical_CV/피부암 분류 및 Segmentation/part2_datasets/val_dataset.pt\"\n",
        "    TEST_PATH = \"/content/drive/MyDrive/Medical_CV/피부암 분류 및 Segmentation/part2_datasets/test_dataset.pt\"\n",
        "    BATCH_SIZE = 32\n",
        "    EPOCHS = 20\n",
        "    LR = 0.001\n",
        "    DEVICE = torch.device(\"cuda\" if torch.cuda.is_available() else \"cpu\")"
      ],
      "metadata": {
        "id": "nyPpI8s-j-FA"
      },
      "execution_count": null,
      "outputs": []
    },
    {
      "cell_type": "code",
      "source": [
        "# 데이터 로드 함수\n",
        "def load_data(train_path, val_path, test_path):\n",
        "    train_images, train_labels = torch.load(train_path)\n",
        "    val_images, val_labels = torch.load(val_path)\n",
        "    test_images, test_labels = torch.load(test_path)\n",
        "\n",
        "    train_dataset = TensorDataset(train_images, train_labels)\n",
        "    val_dataset = TensorDataset(val_images, val_labels)\n",
        "    test_dataset = TensorDataset(test_images, test_labels)\n",
        "\n",
        "    train_loader = DataLoader(train_dataset, batch_size=Config.BATCH_SIZE, shuffle=True)\n",
        "    val_loader = DataLoader(val_dataset, batch_size=Config.BATCH_SIZE, shuffle=False)\n",
        "    test_loader = DataLoader(test_dataset, batch_size=Config.BATCH_SIZE, shuffle=False)\n",
        "\n",
        "    return train_loader, val_loader, test_loader"
      ],
      "metadata": {
        "id": "iFM9IMSWj-MA"
      },
      "execution_count": null,
      "outputs": []
    },
    {
      "cell_type": "code",
      "source": [
        "# ViT 모델 정의\n",
        "def get_vit_model(num_classes=7):\n",
        "    weights = ViT_B_16_Weights.DEFAULT  # 최신 가중치 사용\n",
        "    model = vit_b_16(weights=weights)  # pretrained 대신 weights 사용\n",
        "    model.heads.head = nn.Sequential(\n",
        "    Dropout(p=0.5),\n",
        "    nn.Linear(model.heads.head.in_features, num_classes)\n",
        "    )\n",
        "    return model.to(Config.DEVICE)"
      ],
      "metadata": {
        "id": "9yuKUuGcj-O6"
      },
      "execution_count": null,
      "outputs": []
    },
    {
      "cell_type": "code",
      "source": [
        "# 학습 함수\n",
        "def train_model(model, train_loader, val_loader):\n",
        "    criterion = nn.CrossEntropyLoss()\n",
        "    optimizer = optim.Adam(model.parameters(), lr=Config.LR)\n",
        "\n",
        "    for epoch in range(Config.EPOCHS):\n",
        "        model.train()\n",
        "        running_loss = 0.0\n",
        "\n",
        "        for images, labels in train_loader:\n",
        "            images, labels = images.to(Config.DEVICE), labels.to(Config.DEVICE)\n",
        "            optimizer.zero_grad()\n",
        "            outputs = model(images)\n",
        "            loss = criterion(outputs, labels)\n",
        "            loss.backward()\n",
        "            optimizer.step()\n",
        "            running_loss += loss.item()\n",
        "\n",
        "        print(f\"Epoch [{epoch+1}/{Config.EPOCHS}], Loss: {running_loss/len(train_loader):.4f}\")\n",
        "\n",
        "        # Validation\n",
        "        model.eval()\n",
        "        val_loss = 0.0\n",
        "        val_accuracy = []\n",
        "        with torch.no_grad():\n",
        "            for images, labels in val_loader:\n",
        "                images, labels = images.to(Config.DEVICE), labels.to(Config.DEVICE)\n",
        "                outputs = model(images)\n",
        "                loss = criterion(outputs, labels)  # Validation Loss 계산\n",
        "                val_loss += loss.item()\n",
        "                _, preds = torch.max(outputs, 1)\n",
        "                val_accuracy.append(accuracy_score(labels.cpu(), preds.cpu()))\n",
        "        # Training/Validation Loss와 Validation Accuracy 출력\n",
        "        print(f\"Epoch [{epoch+1}/{Config.EPOCHS}], \"\n",
        "              f\"Training Loss: {running_loss/len(train_loader):.4f}, \"\n",
        "              f\"Validation Loss: {val_loss/len(val_loader):.4f}, \"\n",
        "              f\"Validation Accuracy: {sum(val_accuracy)/len(val_accuracy):.4f}\")"
      ],
      "metadata": {
        "id": "IqDPEAqPj-Rx"
      },
      "execution_count": null,
      "outputs": []
    },
    {
      "cell_type": "code",
      "source": [
        "# 평가 함수\n",
        "def evaluate_model(model, test_loader):\n",
        "    model.eval()\n",
        "    all_preds, all_labels = [], []\n",
        "\n",
        "    with torch.no_grad():\n",
        "        for images, labels in test_loader:\n",
        "            images, labels = images.to(Config.DEVICE), labels.to(Config.DEVICE)\n",
        "            outputs = model(images)\n",
        "            _, preds = torch.max(outputs, 1)\n",
        "            all_preds.extend(preds.cpu().numpy())\n",
        "            all_labels.extend(labels.cpu().numpy())\n",
        "\n",
        "    # 평가 지표\n",
        "    accuracy = accuracy_score(all_labels, all_preds)\n",
        "    f1 = f1_score(all_labels, all_preds, average='weighted')\n",
        "    cm = confusion_matrix(all_labels, all_preds)\n",
        "\n",
        "    print(f\"Test Accuracy: {accuracy:.4f}\")\n",
        "    print(f\"F1 Score: {f1:.4f}\")\n",
        "    print(f\"Confusion Matrix:\\n{cm}\")"
      ],
      "metadata": {
        "id": "X5k2yX2Fj-Ur"
      },
      "execution_count": null,
      "outputs": []
    },
    {
      "cell_type": "code",
      "source": [
        "# 실행\n",
        "train_loader, val_loader, test_loader = load_data(Config.TRAIN_PATH, Config.VAL_PATH, Config.TEST_PATH)"
      ],
      "metadata": {
        "colab": {
          "base_uri": "https://localhost:8080/"
        },
        "id": "DXPsJ0Y_j-Xs",
        "outputId": "85864a2d-973e-46f8-e1fc-52c08a5f3115"
      },
      "execution_count": null,
      "outputs": [
        {
          "output_type": "stream",
          "name": "stderr",
          "text": [
            "<ipython-input-3-76246b475679>:3: FutureWarning: You are using `torch.load` with `weights_only=False` (the current default value), which uses the default pickle module implicitly. It is possible to construct malicious pickle data which will execute arbitrary code during unpickling (See https://github.com/pytorch/pytorch/blob/main/SECURITY.md#untrusted-models for more details). In a future release, the default value for `weights_only` will be flipped to `True`. This limits the functions that could be executed during unpickling. Arbitrary objects will no longer be allowed to be loaded via this mode unless they are explicitly allowlisted by the user via `torch.serialization.add_safe_globals`. We recommend you start setting `weights_only=True` for any use case where you don't have full control of the loaded file. Please open an issue on GitHub for any issues related to this experimental feature.\n",
            "  train_images, train_labels = torch.load(train_path)\n",
            "<ipython-input-3-76246b475679>:4: FutureWarning: You are using `torch.load` with `weights_only=False` (the current default value), which uses the default pickle module implicitly. It is possible to construct malicious pickle data which will execute arbitrary code during unpickling (See https://github.com/pytorch/pytorch/blob/main/SECURITY.md#untrusted-models for more details). In a future release, the default value for `weights_only` will be flipped to `True`. This limits the functions that could be executed during unpickling. Arbitrary objects will no longer be allowed to be loaded via this mode unless they are explicitly allowlisted by the user via `torch.serialization.add_safe_globals`. We recommend you start setting `weights_only=True` for any use case where you don't have full control of the loaded file. Please open an issue on GitHub for any issues related to this experimental feature.\n",
            "  val_images, val_labels = torch.load(val_path)\n",
            "<ipython-input-3-76246b475679>:5: FutureWarning: You are using `torch.load` with `weights_only=False` (the current default value), which uses the default pickle module implicitly. It is possible to construct malicious pickle data which will execute arbitrary code during unpickling (See https://github.com/pytorch/pytorch/blob/main/SECURITY.md#untrusted-models for more details). In a future release, the default value for `weights_only` will be flipped to `True`. This limits the functions that could be executed during unpickling. Arbitrary objects will no longer be allowed to be loaded via this mode unless they are explicitly allowlisted by the user via `torch.serialization.add_safe_globals`. We recommend you start setting `weights_only=True` for any use case where you don't have full control of the loaded file. Please open an issue on GitHub for any issues related to this experimental feature.\n",
            "  test_images, test_labels = torch.load(test_path)\n"
          ]
        }
      ]
    },
    {
      "cell_type": "code",
      "source": [
        "model = get_vit_model()\n",
        "train_model(model, train_loader, val_loader)"
      ],
      "metadata": {
        "colab": {
          "base_uri": "https://localhost:8080/"
        },
        "id": "AP3gLb8aqA-A",
        "outputId": "01e41ab6-9ac0-4179-ce0c-48ce3e6dd8dc"
      },
      "execution_count": null,
      "outputs": [
        {
          "output_type": "stream",
          "name": "stderr",
          "text": [
            "Downloading: \"https://download.pytorch.org/models/vit_b_16-c867db91.pth\" to /root/.cache/torch/hub/checkpoints/vit_b_16-c867db91.pth\n",
            "100%|██████████| 330M/330M [00:02<00:00, 159MB/s]\n"
          ]
        },
        {
          "output_type": "stream",
          "name": "stdout",
          "text": [
            "Epoch [1/20], Loss: 1.1817\n",
            "Epoch [1/20], Training Loss: 1.1817, Validation Loss: 1.0743, Validation Accuracy: 0.6536\n",
            "Epoch [2/20], Loss: 1.1085\n",
            "Epoch [2/20], Training Loss: 1.1085, Validation Loss: 1.0765, Validation Accuracy: 0.6536\n",
            "Epoch [3/20], Loss: 1.0722\n",
            "Epoch [3/20], Training Loss: 1.0722, Validation Loss: 1.0213, Validation Accuracy: 0.6526\n",
            "Epoch [4/20], Loss: 1.0274\n",
            "Epoch [4/20], Training Loss: 1.0274, Validation Loss: 1.0589, Validation Accuracy: 0.6536\n",
            "Epoch [5/20], Loss: 1.0072\n",
            "Epoch [5/20], Training Loss: 1.0072, Validation Loss: 0.9890, Validation Accuracy: 0.6575\n",
            "Epoch [6/20], Loss: 0.9895\n",
            "Epoch [6/20], Training Loss: 0.9895, Validation Loss: 1.0029, Validation Accuracy: 0.6399\n",
            "Epoch [7/20], Loss: 0.9840\n",
            "Epoch [7/20], Training Loss: 0.9840, Validation Loss: 0.9681, Validation Accuracy: 0.6575\n",
            "Epoch [8/20], Loss: 0.9791\n",
            "Epoch [8/20], Training Loss: 0.9791, Validation Loss: 0.9593, Validation Accuracy: 0.6604\n",
            "Epoch [9/20], Loss: 0.9835\n",
            "Epoch [9/20], Training Loss: 0.9835, Validation Loss: 0.9453, Validation Accuracy: 0.6604\n",
            "Epoch [10/20], Loss: 0.9289\n",
            "Epoch [10/20], Training Loss: 0.9289, Validation Loss: 0.9218, Validation Accuracy: 0.6565\n",
            "Epoch [11/20], Loss: 0.9069\n",
            "Epoch [11/20], Training Loss: 0.9069, Validation Loss: 0.9260, Validation Accuracy: 0.6673\n",
            "Epoch [12/20], Loss: 0.9170\n",
            "Epoch [12/20], Training Loss: 0.9170, Validation Loss: 0.9330, Validation Accuracy: 0.6780\n",
            "Epoch [13/20], Loss: 0.9130\n",
            "Epoch [13/20], Training Loss: 0.9130, Validation Loss: 0.9240, Validation Accuracy: 0.6692\n",
            "Epoch [14/20], Loss: 0.8816\n",
            "Epoch [14/20], Training Loss: 0.8816, Validation Loss: 0.8778, Validation Accuracy: 0.6751\n",
            "Epoch [15/20], Loss: 0.8763\n",
            "Epoch [15/20], Training Loss: 0.8763, Validation Loss: 0.9397, Validation Accuracy: 0.6800\n",
            "Epoch [16/20], Loss: 0.8820\n",
            "Epoch [16/20], Training Loss: 0.8820, Validation Loss: 0.8826, Validation Accuracy: 0.6779\n",
            "Epoch [17/20], Loss: 0.8765\n",
            "Epoch [17/20], Training Loss: 0.8765, Validation Loss: 0.8634, Validation Accuracy: 0.6917\n",
            "Epoch [18/20], Loss: 0.9629\n",
            "Epoch [18/20], Training Loss: 0.9629, Validation Loss: 0.9649, Validation Accuracy: 0.6653\n",
            "Epoch [19/20], Loss: 0.9144\n",
            "Epoch [19/20], Training Loss: 0.9144, Validation Loss: 0.8927, Validation Accuracy: 0.6878\n",
            "Epoch [20/20], Loss: 0.8818\n",
            "Epoch [20/20], Training Loss: 0.8818, Validation Loss: 0.8936, Validation Accuracy: 0.6780\n"
          ]
        }
      ]
    },
    {
      "cell_type": "code",
      "source": [
        "evaluate_model(model, test_loader)"
      ],
      "metadata": {
        "id": "QF8twu-Qp9Da",
        "colab": {
          "base_uri": "https://localhost:8080/"
        },
        "outputId": "be88a935-344f-4593-a166-2df3fc214370"
      },
      "execution_count": null,
      "outputs": [
        {
          "output_type": "stream",
          "name": "stdout",
          "text": [
            "Test Accuracy: 0.6849\n",
            "F1 Score: 0.6353\n",
            "Confusion Matrix:\n",
            "[[ 32  59   0  16   0   0   0]\n",
            " [  6 610   0  38   0   0   1]\n",
            " [  6   6   0   0   0   0   0]\n",
            " [ 12  83   0  38   0   1   1]\n",
            " [  1  14   0   1   0   0   0]\n",
            " [ 13  25   0   3   0   7   1]\n",
            " [  9  14   0   5   0   1   0]]\n"
          ]
        }
      ]
    },
    {
      "cell_type": "code",
      "source": [
        "# 모델 저장\n",
        "def save_entire_model(model, save_path):\n",
        "    torch.save(model, save_path)\n",
        "    print(f\"Entire model saved to {save_path}\")\n",
        "\n",
        "# 예시 - 학습 후 저장\n",
        "save_path = \"/content/drive/MyDrive/Medical_CV/피부암 분류 및 Segmentation/part2_datasets/part2_vit_model.pth\"\n",
        "save_entire_model(model, save_path)"
      ],
      "metadata": {
        "id": "_v982AEuAfGO",
        "colab": {
          "base_uri": "https://localhost:8080/"
        },
        "outputId": "6b621f45-6a73-4efa-ada3-f737a04d10cb"
      },
      "execution_count": null,
      "outputs": [
        {
          "output_type": "stream",
          "name": "stdout",
          "text": [
            "Entire model saved to /content/drive/MyDrive/Medical_CV/피부암 분류 및 Segmentation/part2_datasets/part2_vit_model.pth\n"
          ]
        }
      ]
    },
    {
      "cell_type": "code",
      "source": [
        "# Confusion Matrix 시각화 함수\n",
        "def plot_confusion_matrix(true_labels, predicted_labels, class_names):\n",
        "    cm = confusion_matrix(true_labels, predicted_labels)\n",
        "    plt.figure(figsize=(8, 6))\n",
        "    sns.heatmap(cm, annot=True, fmt=\"d\", cmap=\"Blues\", xticklabels=class_names, yticklabels=class_names)\n",
        "    plt.xlabel(\"Predicted Labels\")\n",
        "    plt.ylabel(\"True Labels\")\n",
        "    plt.title(\"Confusion Matrix\")\n",
        "    plt.show()\n",
        "\n",
        "# 클래스 이름 정의\n",
        "class_names = [\"bkl\", \"nv\", \"df\", \"mel\", \"vasc\", \"bcc\", \"akiec\"]\n",
        "\n",
        "# 모델 평가 및 Confusion Matrix 생성\n",
        "def evaluate_and_plot_confusion_matrix(model, test_loader, class_names):\n",
        "    model.eval()\n",
        "    all_preds = []\n",
        "    all_labels = []\n",
        "\n",
        "    with torch.no_grad():\n",
        "        for images, labels in test_loader:\n",
        "            images, labels = images.to(Config.DEVICE), labels.to(Config.DEVICE)\n",
        "            outputs = model(images)\n",
        "            _, preds = torch.max(outputs, 1)  # 예측값\n",
        "            all_preds.extend(preds.cpu().numpy())\n",
        "            all_labels.extend(labels.cpu().numpy())\n",
        "\n",
        "    # Confusion Matrix 시각화\n",
        "    plot_confusion_matrix(all_labels, all_preds, class_names)\n",
        "\n",
        "    # 테스트 정확도 출력\n",
        "    accuracy = accuracy_score(all_labels, all_preds)\n",
        "    print(f\"Test Accuracy: {accuracy:.4f}\")"
      ],
      "metadata": {
        "id": "5xSl-Cmd97yl"
      },
      "execution_count": null,
      "outputs": []
    },
    {
      "cell_type": "code",
      "source": [
        "evaluate_and_plot_confusion_matrix(model, test_loader, class_names)"
      ],
      "metadata": {
        "id": "C_4UXflL97lv",
        "colab": {
          "base_uri": "https://localhost:8080/",
          "height": 582
        },
        "outputId": "7a705c88-f024-41e3-a4fc-58f5a96068c1"
      },
      "execution_count": null,
      "outputs": [
        {
          "output_type": "display_data",
          "data": {
            "text/plain": [
              "<Figure size 800x600 with 2 Axes>"
            ],
            "image/png": "[encoded data removed]"
          },
          "metadata": {}
        },
        {
          "output_type": "stream",
          "name": "stdout",
          "text": [
            "Test Accuracy: 0.6849\n"
          ]
        }
      ]
    },
    {
      "cell_type": "code",
      "source": [
        "# 성능 지표 시각화 함수\n",
        "def plot_classification_metrics(true_labels, predicted_labels, class_names):\n",
        "    # Classification Report 생성\n",
        "    report = classification_report(true_labels, predicted_labels, target_names=class_names, output_dict=True)\n",
        "\n",
        "    # Precision, Recall, F1 Score 추출\n",
        "    metrics = ['precision', 'recall', 'f1-score']\n",
        "    scores = {metric: [report[label][metric] for label in class_names] for metric in metrics}\n",
        "\n",
        "    # 그래프 그리기\n",
        "    x = np.arange(len(class_names))\n",
        "    width = 0.2\n",
        "\n",
        "    plt.figure(figsize=(12, 6))\n",
        "    for i, metric in enumerate(metrics):\n",
        "        plt.bar(x + i * width, scores[metric], width, label=metric)\n",
        "\n",
        "    plt.xlabel('Classes')\n",
        "    plt.ylabel('Scores')\n",
        "    plt.title('Classification Metrics by Class')\n",
        "    plt.xticks(x + width, class_names, rotation=45)\n",
        "    plt.ylim(0, 1)  # 점수 범위를 0~1로 고정\n",
        "    plt.legend()\n",
        "    plt.tight_layout()\n",
        "    plt.show()\n",
        "\n",
        "# 클래스 이름 정의\n",
        "class_names = [\"bkl\", \"nv\", \"df\", \"mel\", \"vasc\", \"bcc\", \"akiec\"]\n",
        "\n",
        "# 모델 평가 및 성능 지표 시각화\n",
        "def evaluate_and_plot_metrics(model, test_loader, class_names):\n",
        "    model.eval()\n",
        "    all_preds = []\n",
        "    all_labels = []\n",
        "\n",
        "    with torch.no_grad():\n",
        "        for images, labels in test_loader:\n",
        "            images, labels = images.to(Config.DEVICE), labels.to(Config.DEVICE)\n",
        "            outputs = model(images)\n",
        "            _, preds = torch.max(outputs, 1)  # 예측값\n",
        "            all_preds.extend(preds.cpu().numpy())\n",
        "            all_labels.extend(labels.cpu().numpy())\n",
        "\n",
        "    # 성능 지표 그래프 그리기\n",
        "    plot_classification_metrics(all_labels, all_preds, class_names)\n",
        "\n",
        "    # Classification Report 출력\n",
        "    print(classification_report(all_labels, all_preds, target_names=class_names))"
      ],
      "metadata": {
        "id": "O3LI9DjF9_tC"
      },
      "execution_count": null,
      "outputs": []
    },
    {
      "cell_type": "code",
      "source": [
        "evaluate_and_plot_metrics(model, test_loader, class_names)"
      ],
      "metadata": {
        "id": "_KcJ83p_9_qZ",
        "colab": {
          "base_uri": "https://localhost:8080/",
          "height": 1000
        },
        "outputId": "a0bc9247-b168-4221-f026-94579f713944"
      },
      "execution_count": null,
      "outputs": [
        {
          "output_type": "stream",
          "name": "stderr",
          "text": [
            "/usr/local/lib/python3.10/dist-packages/sklearn/metrics/_classification.py:1565: UndefinedMetricWarning: Precision is ill-defined and being set to 0.0 in labels with no predicted samples. Use `zero_division` parameter to control this behavior.\n",
            "  _warn_prf(average, modifier, f\"{metric.capitalize()} is\", len(result))\n",
            "/usr/local/lib/python3.10/dist-packages/sklearn/metrics/_classification.py:1565: UndefinedMetricWarning: Precision is ill-defined and being set to 0.0 in labels with no predicted samples. Use `zero_division` parameter to control this behavior.\n",
            "  _warn_prf(average, modifier, f\"{metric.capitalize()} is\", len(result))\n",
            "/usr/local/lib/python3.10/dist-packages/sklearn/metrics/_classification.py:1565: UndefinedMetricWarning: Precision is ill-defined and being set to 0.0 in labels with no predicted samples. Use `zero_division` parameter to control this behavior.\n",
            "  _warn_prf(average, modifier, f\"{metric.capitalize()} is\", len(result))\n"
          ]
        },
        {
          "output_type": "display_data",
          "data": {
            "text/plain": [
              "<Figure size 1200x600 with 1 Axes>"
            ],
            "image/png": "[encoded data removed]"
          },
          "metadata": {}
        },
        {
          "output_type": "stream",
          "name": "stdout",
          "text": [
            "              precision    recall  f1-score   support\n",
            "\n",
            "         bkl       0.41      0.30      0.34       107\n",
            "          nv       0.75      0.93      0.83       655\n",
            "          df       0.00      0.00      0.00        12\n",
            "         mel       0.38      0.28      0.32       135\n",
            "        vasc       0.00      0.00      0.00        16\n",
            "         bcc       0.78      0.14      0.24        49\n",
            "       akiec       0.00      0.00      0.00        29\n",
            "\n",
            "    accuracy                           0.68      1003\n",
            "   macro avg       0.33      0.24      0.25      1003\n",
            "weighted avg       0.62      0.68      0.64      1003\n",
            "\n"
          ]
        },
        {
          "output_type": "stream",
          "name": "stderr",
          "text": [
            "/usr/local/lib/python3.10/dist-packages/sklearn/metrics/_classification.py:1565: UndefinedMetricWarning: Precision is ill-defined and being set to 0.0 in labels with no predicted samples. Use `zero_division` parameter to control this behavior.\n",
            "  _warn_prf(average, modifier, f\"{metric.capitalize()} is\", len(result))\n",
            "/usr/local/lib/python3.10/dist-packages/sklearn/metrics/_classification.py:1565: UndefinedMetricWarning: Precision is ill-defined and being set to 0.0 in labels with no predicted samples. Use `zero_division` parameter to control this behavior.\n",
            "  _warn_prf(average, modifier, f\"{metric.capitalize()} is\", len(result))\n",
            "/usr/local/lib/python3.10/dist-packages/sklearn/metrics/_classification.py:1565: UndefinedMetricWarning: Precision is ill-defined and being set to 0.0 in labels with no predicted samples. Use `zero_division` parameter to control this behavior.\n",
            "  _warn_prf(average, modifier, f\"{metric.capitalize()} is\", len(result))\n"
          ]
        }
      ]
    }
  ]
}
